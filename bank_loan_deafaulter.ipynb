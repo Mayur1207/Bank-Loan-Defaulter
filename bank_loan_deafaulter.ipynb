{
 "cells": [
  {
   "cell_type": "markdown",
   "id": "288cde54",
   "metadata": {},
   "source": [
    "# Install Libraries"
   ]
  },
  {
   "cell_type": "code",
   "execution_count": 23,
   "id": "72d5be7d",
   "metadata": {},
   "outputs": [],
   "source": [
    "import pandas as pd\n",
    "import numpy as np\n",
    "import matplotlib.pyplot as plt\n",
    "import seaborn as sns\n",
    "from sklearn.preprocessing import MinMaxScaler,StandardScaler\n",
    "from sklearn.metrics import accuracy_score,confusion_matrix,classification_report\n",
    "from sklearn.tree import DecisionTreeClassifier\n",
    "from sklearn.linear_model import LogisticRegression\n",
    "from sklearn.neighbors import KNeighborsClassifier\n",
    "from sklearn.ensemble import RandomForestClassifier,AdaBoostClassifier\n",
    "from sklearn.model_selection import train_test_split,GridSearchCV,RandomizedSearchCV\n",
    "from sklearn.feature_selection import VarianceThreshold,mutual_info_classif\n",
    "from warnings import filterwarnings\n",
    "filterwarnings('ignore')"
   ]
  },
  {
   "cell_type": "markdown",
   "id": "e5f51240",
   "metadata": {},
   "source": [
    "# Problem Statement "
   ]
  },
  {
   "cell_type": "markdown",
   "id": "9b8dbdb0",
   "metadata": {},
   "source": [
    "### To Predict the customer is loan defaultter or not"
   ]
  },
  {
   "cell_type": "code",
   "execution_count": 24,
   "id": "a08fb82a",
   "metadata": {},
   "outputs": [
    {
     "data": {
      "text/html": [
       "<div>\n",
       "<style scoped>\n",
       "    .dataframe tbody tr th:only-of-type {\n",
       "        vertical-align: middle;\n",
       "    }\n",
       "\n",
       "    .dataframe tbody tr th {\n",
       "        vertical-align: top;\n",
       "    }\n",
       "\n",
       "    .dataframe thead th {\n",
       "        text-align: right;\n",
       "    }\n",
       "</style>\n",
       "<table border=\"1\" class=\"dataframe\">\n",
       "  <thead>\n",
       "    <tr style=\"text-align: right;\">\n",
       "      <th></th>\n",
       "      <th>ID</th>\n",
       "      <th>Loan Amount</th>\n",
       "      <th>Funded Amount</th>\n",
       "      <th>Funded Amount Investor</th>\n",
       "      <th>Term</th>\n",
       "      <th>Batch Enrolled</th>\n",
       "      <th>Interest Rate</th>\n",
       "      <th>Grade</th>\n",
       "      <th>Sub Grade</th>\n",
       "      <th>Employment Duration</th>\n",
       "      <th>...</th>\n",
       "      <th>Recoveries</th>\n",
       "      <th>Collection Recovery Fee</th>\n",
       "      <th>Collection 12 months Medical</th>\n",
       "      <th>Application Type</th>\n",
       "      <th>Last week Pay</th>\n",
       "      <th>Accounts Delinquent</th>\n",
       "      <th>Total Collection Amount</th>\n",
       "      <th>Total Current Balance</th>\n",
       "      <th>Total Revolving Credit Limit</th>\n",
       "      <th>Loan Status</th>\n",
       "    </tr>\n",
       "  </thead>\n",
       "  <tbody>\n",
       "    <tr>\n",
       "      <th>0</th>\n",
       "      <td>65087372</td>\n",
       "      <td>10000</td>\n",
       "      <td>32236</td>\n",
       "      <td>12329.36286</td>\n",
       "      <td>59</td>\n",
       "      <td>BAT2522922</td>\n",
       "      <td>11.135007</td>\n",
       "      <td>B</td>\n",
       "      <td>C4</td>\n",
       "      <td>MORTGAGE</td>\n",
       "      <td>...</td>\n",
       "      <td>2.498291</td>\n",
       "      <td>0.793724</td>\n",
       "      <td>0</td>\n",
       "      <td>INDIVIDUAL</td>\n",
       "      <td>49</td>\n",
       "      <td>0</td>\n",
       "      <td>31</td>\n",
       "      <td>311301</td>\n",
       "      <td>6619</td>\n",
       "      <td>0</td>\n",
       "    </tr>\n",
       "    <tr>\n",
       "      <th>1</th>\n",
       "      <td>1450153</td>\n",
       "      <td>3609</td>\n",
       "      <td>11940</td>\n",
       "      <td>12191.99692</td>\n",
       "      <td>59</td>\n",
       "      <td>BAT1586599</td>\n",
       "      <td>12.237563</td>\n",
       "      <td>C</td>\n",
       "      <td>D3</td>\n",
       "      <td>RENT</td>\n",
       "      <td>...</td>\n",
       "      <td>2.377215</td>\n",
       "      <td>0.974821</td>\n",
       "      <td>0</td>\n",
       "      <td>INDIVIDUAL</td>\n",
       "      <td>109</td>\n",
       "      <td>0</td>\n",
       "      <td>53</td>\n",
       "      <td>182610</td>\n",
       "      <td>20885</td>\n",
       "      <td>0</td>\n",
       "    </tr>\n",
       "    <tr>\n",
       "      <th>2</th>\n",
       "      <td>1969101</td>\n",
       "      <td>28276</td>\n",
       "      <td>9311</td>\n",
       "      <td>21603.22455</td>\n",
       "      <td>59</td>\n",
       "      <td>BAT2136391</td>\n",
       "      <td>12.545884</td>\n",
       "      <td>F</td>\n",
       "      <td>D4</td>\n",
       "      <td>MORTGAGE</td>\n",
       "      <td>...</td>\n",
       "      <td>4.316277</td>\n",
       "      <td>1.020075</td>\n",
       "      <td>0</td>\n",
       "      <td>INDIVIDUAL</td>\n",
       "      <td>66</td>\n",
       "      <td>0</td>\n",
       "      <td>34</td>\n",
       "      <td>89801</td>\n",
       "      <td>26155</td>\n",
       "      <td>0</td>\n",
       "    </tr>\n",
       "    <tr>\n",
       "      <th>3</th>\n",
       "      <td>6651430</td>\n",
       "      <td>11170</td>\n",
       "      <td>6954</td>\n",
       "      <td>17877.15585</td>\n",
       "      <td>59</td>\n",
       "      <td>BAT2428731</td>\n",
       "      <td>16.731201</td>\n",
       "      <td>C</td>\n",
       "      <td>C3</td>\n",
       "      <td>MORTGAGE</td>\n",
       "      <td>...</td>\n",
       "      <td>0.107020</td>\n",
       "      <td>0.749971</td>\n",
       "      <td>0</td>\n",
       "      <td>INDIVIDUAL</td>\n",
       "      <td>39</td>\n",
       "      <td>0</td>\n",
       "      <td>40</td>\n",
       "      <td>9189</td>\n",
       "      <td>60214</td>\n",
       "      <td>0</td>\n",
       "    </tr>\n",
       "    <tr>\n",
       "      <th>4</th>\n",
       "      <td>14354669</td>\n",
       "      <td>16890</td>\n",
       "      <td>13226</td>\n",
       "      <td>13539.92667</td>\n",
       "      <td>59</td>\n",
       "      <td>BAT5341619</td>\n",
       "      <td>15.008300</td>\n",
       "      <td>C</td>\n",
       "      <td>D4</td>\n",
       "      <td>MORTGAGE</td>\n",
       "      <td>...</td>\n",
       "      <td>1294.818751</td>\n",
       "      <td>0.368953</td>\n",
       "      <td>0</td>\n",
       "      <td>INDIVIDUAL</td>\n",
       "      <td>18</td>\n",
       "      <td>0</td>\n",
       "      <td>430</td>\n",
       "      <td>126029</td>\n",
       "      <td>22579</td>\n",
       "      <td>0</td>\n",
       "    </tr>\n",
       "  </tbody>\n",
       "</table>\n",
       "<p>5 rows × 35 columns</p>\n",
       "</div>"
      ],
      "text/plain": [
       "         ID  Loan Amount  Funded Amount  Funded Amount Investor  Term  \\\n",
       "0  65087372        10000          32236             12329.36286    59   \n",
       "1   1450153         3609          11940             12191.99692    59   \n",
       "2   1969101        28276           9311             21603.22455    59   \n",
       "3   6651430        11170           6954             17877.15585    59   \n",
       "4  14354669        16890          13226             13539.92667    59   \n",
       "\n",
       "  Batch Enrolled  Interest Rate Grade Sub Grade Employment Duration  ...  \\\n",
       "0     BAT2522922      11.135007     B        C4            MORTGAGE  ...   \n",
       "1     BAT1586599      12.237563     C        D3                RENT  ...   \n",
       "2     BAT2136391      12.545884     F        D4            MORTGAGE  ...   \n",
       "3     BAT2428731      16.731201     C        C3            MORTGAGE  ...   \n",
       "4     BAT5341619      15.008300     C        D4            MORTGAGE  ...   \n",
       "\n",
       "    Recoveries Collection Recovery Fee Collection 12 months Medical  \\\n",
       "0     2.498291                0.793724                            0   \n",
       "1     2.377215                0.974821                            0   \n",
       "2     4.316277                1.020075                            0   \n",
       "3     0.107020                0.749971                            0   \n",
       "4  1294.818751                0.368953                            0   \n",
       "\n",
       "  Application Type  Last week Pay  Accounts Delinquent  \\\n",
       "0       INDIVIDUAL             49                    0   \n",
       "1       INDIVIDUAL            109                    0   \n",
       "2       INDIVIDUAL             66                    0   \n",
       "3       INDIVIDUAL             39                    0   \n",
       "4       INDIVIDUAL             18                    0   \n",
       "\n",
       "   Total Collection Amount  Total Current Balance  \\\n",
       "0                       31                 311301   \n",
       "1                       53                 182610   \n",
       "2                       34                  89801   \n",
       "3                       40                   9189   \n",
       "4                      430                 126029   \n",
       "\n",
       "   Total Revolving Credit Limit  Loan Status  \n",
       "0                          6619            0  \n",
       "1                         20885            0  \n",
       "2                         26155            0  \n",
       "3                         60214            0  \n",
       "4                         22579            0  \n",
       "\n",
       "[5 rows x 35 columns]"
      ]
     },
     "execution_count": 24,
     "metadata": {},
     "output_type": "execute_result"
    }
   ],
   "source": [
    "df=pd.read_csv('train.csv')\n",
    "df.head()"
   ]
  },
  {
   "cell_type": "code",
   "execution_count": 25,
   "id": "a86aaae3",
   "metadata": {},
   "outputs": [
    {
     "name": "stdout",
     "output_type": "stream",
     "text": [
      "<class 'pandas.core.frame.DataFrame'>\n",
      "RangeIndex: 67463 entries, 0 to 67462\n",
      "Data columns (total 35 columns):\n",
      " #   Column                        Non-Null Count  Dtype  \n",
      "---  ------                        --------------  -----  \n",
      " 0   ID                            67463 non-null  int64  \n",
      " 1   Loan Amount                   67463 non-null  int64  \n",
      " 2   Funded Amount                 67463 non-null  int64  \n",
      " 3   Funded Amount Investor        67463 non-null  float64\n",
      " 4   Term                          67463 non-null  int64  \n",
      " 5   Batch Enrolled                67463 non-null  object \n",
      " 6   Interest Rate                 67463 non-null  float64\n",
      " 7   Grade                         67463 non-null  object \n",
      " 8   Sub Grade                     67463 non-null  object \n",
      " 9   Employment Duration           67463 non-null  object \n",
      " 10  Home Ownership                67463 non-null  float64\n",
      " 11  Verification Status           67463 non-null  object \n",
      " 12  Payment Plan                  67463 non-null  object \n",
      " 13  Loan Title                    67463 non-null  object \n",
      " 14  Debit to Income               67463 non-null  float64\n",
      " 15  Delinquency - two years       67463 non-null  int64  \n",
      " 16  Inquires - six months         67463 non-null  int64  \n",
      " 17  Open Account                  67463 non-null  int64  \n",
      " 18  Public Record                 67463 non-null  int64  \n",
      " 19  Revolving Balance             67463 non-null  int64  \n",
      " 20  Revolving Utilities           67463 non-null  float64\n",
      " 21  Total Accounts                67463 non-null  int64  \n",
      " 22  Initial List Status           67463 non-null  object \n",
      " 23  Total Received Interest       67463 non-null  float64\n",
      " 24  Total Received Late Fee       67463 non-null  float64\n",
      " 25  Recoveries                    67463 non-null  float64\n",
      " 26  Collection Recovery Fee       67463 non-null  float64\n",
      " 27  Collection 12 months Medical  67463 non-null  int64  \n",
      " 28  Application Type              67463 non-null  object \n",
      " 29  Last week Pay                 67463 non-null  int64  \n",
      " 30  Accounts Delinquent           67463 non-null  int64  \n",
      " 31  Total Collection Amount       67463 non-null  int64  \n",
      " 32  Total Current Balance         67463 non-null  int64  \n",
      " 33  Total Revolving Credit Limit  67463 non-null  int64  \n",
      " 34  Loan Status                   67463 non-null  int64  \n",
      "dtypes: float64(9), int64(17), object(9)\n",
      "memory usage: 18.0+ MB\n"
     ]
    }
   ],
   "source": [
    "df.info()"
   ]
  },
  {
   "cell_type": "code",
   "execution_count": 26,
   "id": "33bb2c3f",
   "metadata": {},
   "outputs": [
    {
     "data": {
      "text/plain": [
       "ID                              0\n",
       "Loan Amount                     0\n",
       "Funded Amount                   0\n",
       "Funded Amount Investor          0\n",
       "Term                            0\n",
       "Batch Enrolled                  0\n",
       "Interest Rate                   0\n",
       "Grade                           0\n",
       "Sub Grade                       0\n",
       "Employment Duration             0\n",
       "Home Ownership                  0\n",
       "Verification Status             0\n",
       "Payment Plan                    0\n",
       "Loan Title                      0\n",
       "Debit to Income                 0\n",
       "Delinquency - two years         0\n",
       "Inquires - six months           0\n",
       "Open Account                    0\n",
       "Public Record                   0\n",
       "Revolving Balance               0\n",
       "Revolving Utilities             0\n",
       "Total Accounts                  0\n",
       "Initial List Status             0\n",
       "Total Received Interest         0\n",
       "Total Received Late Fee         0\n",
       "Recoveries                      0\n",
       "Collection Recovery Fee         0\n",
       "Collection 12 months Medical    0\n",
       "Application Type                0\n",
       "Last week Pay                   0\n",
       "Accounts Delinquent             0\n",
       "Total Collection Amount         0\n",
       "Total Current Balance           0\n",
       "Total Revolving Credit Limit    0\n",
       "Loan Status                     0\n",
       "dtype: int64"
      ]
     },
     "execution_count": 26,
     "metadata": {},
     "output_type": "execute_result"
    }
   ],
   "source": [
    "df.isna().sum()"
   ]
  },
  {
   "cell_type": "code",
   "execution_count": 27,
   "id": "560233aa",
   "metadata": {},
   "outputs": [
    {
     "data": {
      "text/plain": [
       "(67463, 35)"
      ]
     },
     "execution_count": 27,
     "metadata": {},
     "output_type": "execute_result"
    }
   ],
   "source": [
    "df.shape"
   ]
  },
  {
   "cell_type": "markdown",
   "id": "e748f0be",
   "metadata": {},
   "source": [
    "# EDA"
   ]
  },
  {
   "cell_type": "code",
   "execution_count": 28,
   "id": "b73330f0",
   "metadata": {},
   "outputs": [],
   "source": [
    "###1.Loan Amount\n"
   ]
  },
  {
   "cell_type": "code",
   "execution_count": 29,
   "id": "4c16da95",
   "metadata": {},
   "outputs": [
    {
     "data": {
      "text/plain": [
       "array([10000,  3609, 28276, ..., 30703, 17417,  8323], dtype=int64)"
      ]
     },
     "execution_count": 29,
     "metadata": {},
     "output_type": "execute_result"
    }
   ],
   "source": [
    "df['Loan Amount'].unique()"
   ]
  },
  {
   "cell_type": "code",
   "execution_count": 30,
   "id": "b8661a9b",
   "metadata": {},
   "outputs": [
    {
     "data": {
      "text/plain": [
       "<AxesSubplot:xlabel='Loan Amount'>"
      ]
     },
     "execution_count": 30,
     "metadata": {},
     "output_type": "execute_result"
    },
    {
     "data": {
      "image/png": "[encoded data removed]",
      "text/plain": [
       "<Figure size 432x288 with 1 Axes>"
      ]
     },
     "metadata": {
      "needs_background": "light"
     },
     "output_type": "display_data"
    }
   ],
   "source": [
    "sns.boxplot(df['Loan Amount'])"
   ]
  },
  {
   "cell_type": "code",
   "execution_count": 31,
   "id": "aa3b1439",
   "metadata": {},
   "outputs": [
    {
     "data": {
      "text/plain": [
       "<AxesSubplot:xlabel='Loan Amount', ylabel='Density'>"
      ]
     },
     "execution_count": 31,
     "metadata": {},
     "output_type": "execute_result"
    },
    {
     "data": {
      "image/png": "[encoded data removed]",
      "text/plain": [
       "<Figure size 432x288 with 1 Axes>"
      ]
     },
     "metadata": {
      "needs_background": "light"
     },
     "output_type": "display_data"
    }
   ],
   "source": [
    "sns.kdeplot((df['Loan Amount']))"
   ]
  },
  {
   "cell_type": "code",
   "execution_count": null,
   "id": "416f7c14",
   "metadata": {},
   "outputs": [],
   "source": []
  },
  {
   "cell_type": "markdown",
   "id": "7e1f5197",
   "metadata": {},
   "source": [
    "### 2.Funded Amount"
   ]
  },
  {
   "cell_type": "code",
   "execution_count": 32,
   "id": "497c6a4f",
   "metadata": {},
   "outputs": [
    {
     "data": {
      "text/plain": [
       "array([32236, 11940,  9311, ..., 17672, 32921, 29875], dtype=int64)"
      ]
     },
     "execution_count": 32,
     "metadata": {},
     "output_type": "execute_result"
    }
   ],
   "source": [
    "df['Funded Amount'].unique()"
   ]
  },
  {
   "cell_type": "code",
   "execution_count": 33,
   "id": "42acb026",
   "metadata": {},
   "outputs": [
    {
     "data": {
      "text/plain": [
       "<AxesSubplot:xlabel='Funded Amount'>"
      ]
     },
     "execution_count": 33,
     "metadata": {},
     "output_type": "execute_result"
    },
    {
     "data": {
      "image/png": "[encoded data removed]",
      "text/plain": [
       "<Figure size 432x288 with 1 Axes>"
      ]
     },
     "metadata": {
      "needs_background": "light"
     },
     "output_type": "display_data"
    }
   ],
   "source": [
    "sns.boxplot(df['Funded Amount'])"
   ]
  },
  {
   "cell_type": "code",
   "execution_count": 34,
   "id": "35d4c75b",
   "metadata": {},
   "outputs": [
    {
     "data": {
      "text/plain": [
       "<AxesSubplot:xlabel='Funded Amount', ylabel='Density'>"
      ]
     },
     "execution_count": 34,
     "metadata": {},
     "output_type": "execute_result"
    },
    {
     "data": {
      "image/png": "[encoded data removed]",
      "text/plain": [
       "<Figure size 432x288 with 1 Axes>"
      ]
     },
     "metadata": {
      "needs_background": "light"
     },
     "output_type": "display_data"
    }
   ],
   "source": [
    "sns.kdeplot(df['Funded Amount'],fill=True)"
   ]
  },
  {
   "cell_type": "code",
   "execution_count": 35,
   "id": "8a3953b2",
   "metadata": {},
   "outputs": [],
   "source": [
    "### 3.Funded Amount Investor"
   ]
  },
  {
   "cell_type": "code",
   "execution_count": 36,
   "id": "fcfa7f29",
   "metadata": {},
   "outputs": [
    {
     "data": {
      "text/plain": [
       "<AxesSubplot:xlabel='Funded Amount Investor'>"
      ]
     },
     "execution_count": 36,
     "metadata": {},
     "output_type": "execute_result"
    },
    {
     "data": {
      "image/png": "[encoded data removed]",
      "text/plain": [
       "<Figure size 432x288 with 1 Axes>"
      ]
     },
     "metadata": {
      "needs_background": "light"
     },
     "output_type": "display_data"
    }
   ],
   "source": [
    "sns.boxplot(df['Funded Amount Investor'])"
   ]
  },
  {
   "cell_type": "code",
   "execution_count": 37,
   "id": "d8736b3b",
   "metadata": {},
   "outputs": [
    {
     "data": {
      "text/plain": [
       "<AxesSubplot:xlabel='Funded Amount Investor', ylabel='Density'>"
      ]
     },
     "execution_count": 37,
     "metadata": {},
     "output_type": "execute_result"
    },
    {
     "data": {
      "image/png": "[encoded data removed]",
      "text/plain": [
       "<Figure size 432x288 with 1 Axes>"
      ]
     },
     "metadata": {
      "needs_background": "light"
     },
     "output_type": "display_data"
    }
   ],
   "source": [
    "sns.kdeplot(np.log(df['Funded Amount Investor']))"
   ]
  },
  {
   "cell_type": "code",
   "execution_count": null,
   "id": "a9ae623a",
   "metadata": {},
   "outputs": [],
   "source": []
  },
  {
   "cell_type": "code",
   "execution_count": 38,
   "id": "9ba23f98",
   "metadata": {},
   "outputs": [],
   "source": [
    "def plot(data):\n",
    "    print(sns.boxplot(data))\n",
    "    print(sns.kdeplot(data,fill=True))"
   ]
  },
  {
   "cell_type": "code",
   "execution_count": 39,
   "id": "aae7105b",
   "metadata": {},
   "outputs": [],
   "source": [
    "### 4.Term"
   ]
  },
  {
   "cell_type": "code",
   "execution_count": 40,
   "id": "da3c08fb",
   "metadata": {},
   "outputs": [
    {
     "data": {
      "text/plain": [
       "array([59, 36, 58], dtype=int64)"
      ]
     },
     "execution_count": 40,
     "metadata": {},
     "output_type": "execute_result"
    }
   ],
   "source": [
    "df['Term'].unique()"
   ]
  },
  {
   "cell_type": "code",
   "execution_count": 41,
   "id": "56d8bf51",
   "metadata": {},
   "outputs": [
    {
     "data": {
      "text/plain": [
       "0        59\n",
       "1        59\n",
       "2        59\n",
       "3        59\n",
       "4        59\n",
       "         ..\n",
       "67458    59\n",
       "67459    59\n",
       "67460    59\n",
       "67461    59\n",
       "67462    59\n",
       "Name: Term, Length: 67463, dtype: int64"
      ]
     },
     "execution_count": 41,
     "metadata": {},
     "output_type": "execute_result"
    }
   ],
   "source": [
    "df['Term']"
   ]
  },
  {
   "cell_type": "code",
   "execution_count": 42,
   "id": "348d2a96",
   "metadata": {},
   "outputs": [],
   "source": [
    "### 5.Batch Enrolled"
   ]
  },
  {
   "cell_type": "code",
   "execution_count": 43,
   "id": "31f0db96",
   "metadata": {},
   "outputs": [
    {
     "data": {
      "text/plain": [
       "array(['BAT2522922', 'BAT1586599', 'BAT2136391', 'BAT2428731',\n",
       "       'BAT5341619', 'BAT4694572', 'BAT4808022', 'BAT2558388',\n",
       "       'BAT2078974', 'BAT2252229', 'BAT2333412', 'BAT5849876',\n",
       "       'BAT2833642', 'BAT2803411', 'BAT5525466', 'BAT5714674',\n",
       "       'BAT2003848', 'BAT4722912', 'BAT3873588', 'BAT1780517',\n",
       "       'BAT4271519', 'BAT5811547', 'BAT1184694', 'BAT4136152',\n",
       "       'BAT3193689', 'BAT1467036', 'BAT2575549', 'BAT4351734',\n",
       "       'BAT1104812', 'BAT5924421', 'BAT1930365', 'BAT1766061',\n",
       "       'BAT5489674', 'BAT3865626', 'BAT5629144', 'BAT5547201',\n",
       "       'BAT224923', 'BAT3726927', 'BAT3461431', 'BAT1761981',\n",
       "       'BAT1135695'], dtype=object)"
      ]
     },
     "execution_count": 43,
     "metadata": {},
     "output_type": "execute_result"
    }
   ],
   "source": [
    "df['Batch Enrolled'].unique()"
   ]
  },
  {
   "cell_type": "code",
   "execution_count": 44,
   "id": "d3630f3b",
   "metadata": {},
   "outputs": [],
   "source": [
    "### 6.Interest Rate"
   ]
  },
  {
   "cell_type": "code",
   "execution_count": 45,
   "id": "e90eb774",
   "metadata": {},
   "outputs": [
    {
     "data": {
      "text/plain": [
       "0        11.135007\n",
       "1        12.237563\n",
       "2        12.545884\n",
       "3        16.731201\n",
       "4        15.008300\n",
       "           ...    \n",
       "67458     9.408858\n",
       "67459     9.972104\n",
       "67460    19.650943\n",
       "67461    13.169095\n",
       "67462    16.034631\n",
       "Name: Interest Rate, Length: 67463, dtype: float64"
      ]
     },
     "execution_count": 45,
     "metadata": {},
     "output_type": "execute_result"
    }
   ],
   "source": [
    "df['Interest Rate']"
   ]
  },
  {
   "cell_type": "code",
   "execution_count": 46,
   "id": "e2a6c3fe",
   "metadata": {},
   "outputs": [
    {
     "data": {
      "text/plain": [
       "<AxesSubplot:xlabel='Interest Rate'>"
      ]
     },
     "execution_count": 46,
     "metadata": {},
     "output_type": "execute_result"
    },
    {
     "data": {
      "image/png": "[encoded data removed]",
      "text/plain": [
       "<Figure size 432x288 with 1 Axes>"
      ]
     },
     "metadata": {
      "needs_background": "light"
     },
     "output_type": "display_data"
    }
   ],
   "source": [
    "sns.boxplot(df['Interest Rate'])"
   ]
  },
  {
   "cell_type": "code",
   "execution_count": 47,
   "id": "4d3deae5",
   "metadata": {},
   "outputs": [
    {
     "data": {
      "text/plain": [
       "<AxesSubplot:xlabel='Interest Rate', ylabel='Density'>"
      ]
     },
     "execution_count": 47,
     "metadata": {},
     "output_type": "execute_result"
    },
    {
     "data": {
      "image/png": "[encoded data removed]",
      "text/plain": [
       "<Figure size 432x288 with 1 Axes>"
      ]
     },
     "metadata": {
      "needs_background": "light"
     },
     "output_type": "display_data"
    }
   ],
   "source": [
    "sns.kdeplot(np.cbrt(df['Interest Rate']))"
   ]
  },
  {
   "cell_type": "code",
   "execution_count": 84,
   "id": "3f1bd9e5",
   "metadata": {},
   "outputs": [
    {
     "name": "stdout",
     "output_type": "stream",
     "text": [
      "Pvalue 0.0\n",
      "Data is not normally distributed\n"
     ]
    }
   ],
   "source": [
    "normal(np.cbrt(df['Interest Rate']))"
   ]
  },
  {
   "cell_type": "code",
   "execution_count": 85,
   "id": "52cefc5e",
   "metadata": {},
   "outputs": [],
   "source": [
    "### 7.Grade"
   ]
  },
  {
   "cell_type": "code",
   "execution_count": 86,
   "id": "1a1c48f0",
   "metadata": {},
   "outputs": [
    {
     "data": {
      "text/plain": [
       "array(['B', 'C', 'F', 'A', 'G', 'E', 'D'], dtype=object)"
      ]
     },
     "execution_count": 86,
     "metadata": {},
     "output_type": "execute_result"
    }
   ],
   "source": [
    "df['Grade'].unique()"
   ]
  },
  {
   "cell_type": "markdown",
   "id": "98039b8b",
   "metadata": {},
   "source": [
    "### 8.Sub Grade"
   ]
  },
  {
   "cell_type": "code",
   "execution_count": 87,
   "id": "df3ffe1a",
   "metadata": {},
   "outputs": [
    {
     "data": {
      "text/plain": [
       "array(['C4', 'D3', 'D4', 'C3', 'G5', 'C5', 'A5', 'C2', 'B5', 'B1', 'B4',\n",
       "       'A4', 'B2', 'D2', 'C1', 'F3', 'D1', 'F2', 'A2', 'A3', 'F1', 'E5',\n",
       "       'B3', 'F4', 'G1', 'F5', 'E1', 'E2', 'D5', 'G2', 'E4', 'A1', 'G3',\n",
       "       'E3', 'G4'], dtype=object)"
      ]
     },
     "execution_count": 87,
     "metadata": {},
     "output_type": "execute_result"
    }
   ],
   "source": [
    "df['Sub Grade'].unique()"
   ]
  },
  {
   "cell_type": "code",
   "execution_count": 88,
   "id": "b94f5baa",
   "metadata": {},
   "outputs": [
    {
     "data": {
      "text/plain": [
       "Index(['ID', 'Loan Amount', 'Funded Amount', 'Funded Amount Investor', 'Term',\n",
       "       'Batch Enrolled', 'Interest Rate', 'Grade', 'Sub Grade',\n",
       "       'Employment Duration', 'Home Ownership', 'Verification Status',\n",
       "       'Payment Plan', 'Loan Title', 'Debit to Income',\n",
       "       'Delinquency - two years', 'Inquires - six months', 'Open Account',\n",
       "       'Public Record', 'Revolving Balance', 'Revolving Utilities',\n",
       "       'Total Accounts', 'Initial List Status', 'Total Received Interest',\n",
       "       'Total Received Late Fee', 'Recoveries', 'Collection Recovery Fee',\n",
       "       'Collection 12 months Medical', 'Application Type', 'Last week Pay',\n",
       "       'Accounts Delinquent', 'Total Collection Amount',\n",
       "       'Total Current Balance', 'Total Revolving Credit Limit', 'Loan Status'],\n",
       "      dtype='object')"
      ]
     },
     "execution_count": 88,
     "metadata": {},
     "output_type": "execute_result"
    }
   ],
   "source": [
    "df.columns"
   ]
  },
  {
   "cell_type": "code",
   "execution_count": 89,
   "id": "2a83c6c0",
   "metadata": {},
   "outputs": [],
   "source": [
    "###10'Employment Duration'"
   ]
  },
  {
   "cell_type": "code",
   "execution_count": 90,
   "id": "be2ee3a2",
   "metadata": {},
   "outputs": [
    {
     "data": {
      "text/plain": [
       "array(['MORTGAGE', 'RENT', 'OWN'], dtype=object)"
      ]
     },
     "execution_count": 90,
     "metadata": {},
     "output_type": "execute_result"
    }
   ],
   "source": [
    "df['Employment Duration'].unique()"
   ]
  },
  {
   "cell_type": "code",
   "execution_count": 91,
   "id": "c8078c15",
   "metadata": {},
   "outputs": [],
   "source": [
    "#### 11. Home Ownership"
   ]
  },
  {
   "cell_type": "code",
   "execution_count": 92,
   "id": "9f1b2f2e",
   "metadata": {},
   "outputs": [
    {
     "data": {
      "text/plain": [
       "array([176346.6267 ,  39833.921  ,  91506.69105, ...,  34813.96985,\n",
       "        96938.83564, 105123.1558 ])"
      ]
     },
     "execution_count": 92,
     "metadata": {},
     "output_type": "execute_result"
    }
   ],
   "source": [
    "df['Home Ownership'].unique()"
   ]
  },
  {
   "cell_type": "code",
   "execution_count": 93,
   "id": "d4ee6498",
   "metadata": {},
   "outputs": [
    {
     "data": {
      "text/plain": [
       "<AxesSubplot:xlabel='Home Ownership'>"
      ]
     },
     "execution_count": 93,
     "metadata": {},
     "output_type": "execute_result"
    },
    {
     "data": {
      "image/png": "[encoded data removed]",
      "text/plain": [
       "<Figure size 432x288 with 1 Axes>"
      ]
     },
     "metadata": {
      "needs_background": "light"
     },
     "output_type": "display_data"
    }
   ],
   "source": [
    "sns.boxplot(df['Home Ownership'])"
   ]
  },
  {
   "cell_type": "code",
   "execution_count": 94,
   "id": "271f9d45",
   "metadata": {},
   "outputs": [
    {
     "data": {
      "text/plain": [
       "<AxesSubplot:xlabel='Home Ownership', ylabel='Density'>"
      ]
     },
     "execution_count": 94,
     "metadata": {},
     "output_type": "execute_result"
    },
    {
     "data": {
      "image/png": "[encoded data removed]",
      "text/plain": [
       "<Figure size 432x288 with 1 Axes>"
      ]
     },
     "metadata": {
      "needs_background": "light"
     },
     "output_type": "display_data"
    }
   ],
   "source": [
    "sns.kdeplot(np.log(df['Home Ownership']))"
   ]
  },
  {
   "cell_type": "code",
   "execution_count": 95,
   "id": "e0bdb93e",
   "metadata": {},
   "outputs": [
    {
     "name": "stdout",
     "output_type": "stream",
     "text": [
      "Pvalue 4.0637655465419695e-44\n",
      "Data is not normally distributed\n"
     ]
    }
   ],
   "source": [
    "normal(np.log(df['Home Ownership']))"
   ]
  },
  {
   "cell_type": "code",
   "execution_count": 96,
   "id": "1cc54cee",
   "metadata": {},
   "outputs": [],
   "source": [
    "### 12. Verification Status"
   ]
  },
  {
   "cell_type": "code",
   "execution_count": 97,
   "id": "1a82f40a",
   "metadata": {},
   "outputs": [
    {
     "data": {
      "text/plain": [
       "0           Not Verified\n",
       "1        Source Verified\n",
       "2        Source Verified\n",
       "3        Source Verified\n",
       "4        Source Verified\n",
       "              ...       \n",
       "67458           Verified\n",
       "67459    Source Verified\n",
       "67460           Verified\n",
       "67461       Not Verified\n",
       "67462           Verified\n",
       "Name: Verification Status, Length: 67463, dtype: object"
      ]
     },
     "execution_count": 97,
     "metadata": {},
     "output_type": "execute_result"
    }
   ],
   "source": [
    "df['Verification Status']"
   ]
  },
  {
   "cell_type": "code",
   "execution_count": 98,
   "id": "ba1e3954",
   "metadata": {},
   "outputs": [],
   "source": [
    "### 13.Payment Plan"
   ]
  },
  {
   "cell_type": "code",
   "execution_count": 99,
   "id": "c46b87b1",
   "metadata": {},
   "outputs": [
    {
     "data": {
      "text/plain": [
       "array(['n'], dtype=object)"
      ]
     },
     "execution_count": 99,
     "metadata": {},
     "output_type": "execute_result"
    }
   ],
   "source": [
    "df['Payment Plan'].unique()"
   ]
  },
  {
   "cell_type": "code",
   "execution_count": 100,
   "id": "215f3220",
   "metadata": {},
   "outputs": [],
   "source": [
    "### 14.Loan Title"
   ]
  },
  {
   "cell_type": "code",
   "execution_count": 101,
   "id": "8652175c",
   "metadata": {},
   "outputs": [
    {
     "data": {
      "text/plain": [
       "array(['Debt Consolidation', 'Debt consolidation',\n",
       "       'Credit card refinancing', 'Home improvement',\n",
       "       'Credit Consolidation', 'Green loan', 'Other',\n",
       "       'Moving and relocation', 'Credit Cards', 'Medical expenses',\n",
       "       'DEBT CONSOLIDATION', 'Home Improvement', 'Refinance',\n",
       "       'credit card consolidation', 'Lending Club',\n",
       "       'Debt Consolidation Loan', 'Major purchase', 'Vacation',\n",
       "       'Business', 'Credit card payoff', 'Credit Card Consolidation',\n",
       "       'credit card', 'Credit Card Refi', 'Personal Loan', 'CC Refi',\n",
       "       'consolidate', 'Medical', 'Loan 1', 'Consolidation',\n",
       "       'Card Consolidation', 'Car financing', 'debt', 'home improvement',\n",
       "       'debt consolidation', 'Home buying', 'Freedom', 'Consolidate',\n",
       "       'Consolidated', 'get out of debt', 'consolidation loan',\n",
       "       'Dept consolidation', 'Personal loan', 'Personal', 'Debt', 'cards',\n",
       "       'Cards', 'Bathroom', 'refi', 'Credit Card Loan',\n",
       "       'Credit Card Debt', 'House', 'Debt Consolidation 2013',\n",
       "       'debt loan', 'CC Refinance', 'Consolidation Loan', 'Home',\n",
       "       'CC consolidation', 'Credit Card', 'Credit Card Refinance',\n",
       "       'Credit Loan', 'payoff', 'Bill Consolidation',\n",
       "       'credit card refinance', 'Credit Card consolidation',\n",
       "       'Credit Card Paydown', 'Credit card pay off', 'vacation',\n",
       "       'Credit card refinance', 'Get Debt Free', 'MYLOAN',\n",
       "       'credit pay off', 'Payoff', 'consolidation', 'My Loan', 'Loan',\n",
       "       'Bill Payoff', 'CC-Refinance', 'Debt Reduction', 'Medical loan',\n",
       "       'Wedding Loan', 'Credit', 'CONSOLIDATE', 'personal',\n",
       "       'pay off bills', 'CC Consolidation', 'Refinance Loan',\n",
       "       'Credit Card Payoff', 'Debt Payoff', 'Car Loan', 'Pay Off',\n",
       "       'Debt Loan', 'CONSOLIDATION', 'Pool', 'Credit payoff',\n",
       "       'Credit Card Refinance Loan', 'CC Loan', 'Debt Free',\n",
       "       'debt consolidation loan', 'conso', 'Home Improvement Loan',\n",
       "       'Loan Consolidation', 'Debt payoff', 'Lending loan', 'relief',\n",
       "       'CC', 'loan1', 'Getting Ahead', 'Home loan', 'bills'], dtype=object)"
      ]
     },
     "execution_count": 101,
     "metadata": {},
     "output_type": "execute_result"
    }
   ],
   "source": [
    "df['Loan Title'].unique()"
   ]
  },
  {
   "cell_type": "code",
   "execution_count": 102,
   "id": "3142024e",
   "metadata": {},
   "outputs": [],
   "source": [
    "### 15.Debit to Income"
   ]
  },
  {
   "cell_type": "code",
   "execution_count": 103,
   "id": "2da29270",
   "metadata": {},
   "outputs": [
    {
     "data": {
      "text/plain": [
       "array([16.28475781, 15.41240945, 28.13761862, ..., 10.29577356,\n",
       "        7.61462376, 16.05211225])"
      ]
     },
     "execution_count": 103,
     "metadata": {},
     "output_type": "execute_result"
    }
   ],
   "source": [
    "df['Debit to Income'].unique()"
   ]
  },
  {
   "cell_type": "code",
   "execution_count": 104,
   "id": "4d7f4159",
   "metadata": {},
   "outputs": [
    {
     "data": {
      "text/plain": [
       "<AxesSubplot:xlabel='Debit to Income'>"
      ]
     },
     "execution_count": 104,
     "metadata": {},
     "output_type": "execute_result"
    },
    {
     "data": {
      "image/png": "[encoded data removed]",
      "text/plain": [
       "<Figure size 432x288 with 1 Axes>"
      ]
     },
     "metadata": {
      "needs_background": "light"
     },
     "output_type": "display_data"
    }
   ],
   "source": [
    "sns.boxplot(df['Debit to Income'])"
   ]
  },
  {
   "cell_type": "code",
   "execution_count": 105,
   "id": "a1b4171f",
   "metadata": {},
   "outputs": [
    {
     "data": {
      "text/plain": [
       "<AxesSubplot:xlabel='Debit to Income', ylabel='Density'>"
      ]
     },
     "execution_count": 105,
     "metadata": {},
     "output_type": "execute_result"
    },
    {
     "data": {
      "image/png": "[encoded data removed]",
      "text/plain": [
       "<Figure size 432x288 with 1 Axes>"
      ]
     },
     "metadata": {
      "needs_background": "light"
     },
     "output_type": "display_data"
    }
   ],
   "source": [
    "sns.kdeplot((df['Debit to Income']))"
   ]
  },
  {
   "cell_type": "code",
   "execution_count": 106,
   "id": "799d1f39",
   "metadata": {},
   "outputs": [
    {
     "name": "stdout",
     "output_type": "stream",
     "text": [
      "Pvalue 0.0\n",
      "Data is not normally distributed\n"
     ]
    }
   ],
   "source": [
    "normal(df['Debit to Income'])"
   ]
  },
  {
   "cell_type": "code",
   "execution_count": 107,
   "id": "929319ac",
   "metadata": {},
   "outputs": [],
   "source": [
    "### 16.Delinquency - two years"
   ]
  },
  {
   "cell_type": "code",
   "execution_count": 108,
   "id": "67599cdc",
   "metadata": {},
   "outputs": [
    {
     "data": {
      "text/plain": [
       "array([1, 0, 3, 6, 2, 7, 5, 4, 8], dtype=int64)"
      ]
     },
     "execution_count": 108,
     "metadata": {},
     "output_type": "execute_result"
    }
   ],
   "source": [
    "df['Delinquency - two years'].unique()"
   ]
  },
  {
   "cell_type": "code",
   "execution_count": 109,
   "id": "9a81d6eb",
   "metadata": {},
   "outputs": [],
   "source": [
    "### 17.Inquires - six months"
   ]
  },
  {
   "cell_type": "code",
   "execution_count": 110,
   "id": "6d1186fa",
   "metadata": {},
   "outputs": [
    {
     "data": {
      "text/plain": [
       "array([0, 3, 2, 1, 4, 5], dtype=int64)"
      ]
     },
     "execution_count": 110,
     "metadata": {},
     "output_type": "execute_result"
    }
   ],
   "source": [
    "df['Inquires - six months'].unique()"
   ]
  },
  {
   "cell_type": "code",
   "execution_count": 111,
   "id": "276d4256",
   "metadata": {},
   "outputs": [
    {
     "data": {
      "text/plain": [
       "Index(['ID', 'Loan Amount', 'Funded Amount', 'Funded Amount Investor', 'Term',\n",
       "       'Batch Enrolled', 'Interest Rate', 'Grade', 'Sub Grade',\n",
       "       'Employment Duration', 'Home Ownership', 'Verification Status',\n",
       "       'Payment Plan', 'Loan Title', 'Debit to Income',\n",
       "       'Delinquency - two years', 'Inquires - six months', 'Open Account',\n",
       "       'Public Record', 'Revolving Balance', 'Revolving Utilities',\n",
       "       'Total Accounts', 'Initial List Status', 'Total Received Interest',\n",
       "       'Total Received Late Fee', 'Recoveries', 'Collection Recovery Fee',\n",
       "       'Collection 12 months Medical', 'Application Type', 'Last week Pay',\n",
       "       'Accounts Delinquent', 'Total Collection Amount',\n",
       "       'Total Current Balance', 'Total Revolving Credit Limit', 'Loan Status'],\n",
       "      dtype='object')"
      ]
     },
     "execution_count": 111,
     "metadata": {},
     "output_type": "execute_result"
    }
   ],
   "source": [
    "df.columns"
   ]
  },
  {
   "cell_type": "code",
   "execution_count": 112,
   "id": "d874422b",
   "metadata": {},
   "outputs": [],
   "source": [
    "### 18.Open Account"
   ]
  },
  {
   "cell_type": "code",
   "execution_count": 113,
   "id": "d17257e9",
   "metadata": {},
   "outputs": [
    {
     "data": {
      "text/plain": [
       "array([13, 12, 14,  7, 16, 11,  6, 17, 10,  8,  9, 26, 31, 28, 19, 15, 33,\n",
       "       30, 21, 18, 27, 20, 25, 24, 23, 22, 34, 32, 29,  5,  4, 36, 35,  3,\n",
       "       37,  2], dtype=int64)"
      ]
     },
     "execution_count": 113,
     "metadata": {},
     "output_type": "execute_result"
    }
   ],
   "source": [
    "df['Open Account'].unique()"
   ]
  },
  {
   "cell_type": "code",
   "execution_count": 114,
   "id": "d0797f38",
   "metadata": {},
   "outputs": [
    {
     "data": {
      "text/plain": [
       "<AxesSubplot:xlabel='Open Account', ylabel='Density'>"
      ]
     },
     "execution_count": 114,
     "metadata": {},
     "output_type": "execute_result"
    },
    {
     "data": {
      "image/png": "[encoded data removed]",
      "text/plain": [
       "<Figure size 432x288 with 1 Axes>"
      ]
     },
     "metadata": {
      "needs_background": "light"
     },
     "output_type": "display_data"
    }
   ],
   "source": [
    "sns.kdeplot((df['Open Account']))"
   ]
  },
  {
   "cell_type": "code",
   "execution_count": 115,
   "id": "0c256835",
   "metadata": {},
   "outputs": [
    {
     "name": "stdout",
     "output_type": "stream",
     "text": [
      "Pvalue 0.0\n",
      "Data is not normally distributed\n"
     ]
    }
   ],
   "source": [
    "normal((df['Open Account']))"
   ]
  },
  {
   "cell_type": "code",
   "execution_count": 116,
   "id": "1cce97ae",
   "metadata": {},
   "outputs": [],
   "source": [
    "### 19.Public Record"
   ]
  },
  {
   "cell_type": "code",
   "execution_count": 117,
   "id": "a92ca250",
   "metadata": {},
   "outputs": [
    {
     "data": {
      "text/plain": [
       "array([0, 1, 2, 4, 3], dtype=int64)"
      ]
     },
     "execution_count": 117,
     "metadata": {},
     "output_type": "execute_result"
    }
   ],
   "source": [
    "df['Public Record'].unique()"
   ]
  },
  {
   "cell_type": "code",
   "execution_count": 118,
   "id": "a9809915",
   "metadata": {},
   "outputs": [],
   "source": [
    "### 20.Revolving Balance"
   ]
  },
  {
   "cell_type": "code",
   "execution_count": 119,
   "id": "e4881341",
   "metadata": {},
   "outputs": [
    {
     "data": {
      "text/plain": [
       "array([24246,   812,  1843, ..., 18806, 29762, 27384], dtype=int64)"
      ]
     },
     "execution_count": 119,
     "metadata": {},
     "output_type": "execute_result"
    }
   ],
   "source": [
    "df['Revolving Balance'].unique()"
   ]
  },
  {
   "cell_type": "code",
   "execution_count": 120,
   "id": "369fb049",
   "metadata": {},
   "outputs": [
    {
     "data": {
      "text/plain": [
       "<AxesSubplot:xlabel='Revolving Balance'>"
      ]
     },
     "execution_count": 120,
     "metadata": {},
     "output_type": "execute_result"
    },
    {
     "data": {
      "image/png": "[encoded data removed]",
      "text/plain": [
       "<Figure size 432x288 with 1 Axes>"
      ]
     },
     "metadata": {
      "needs_background": "light"
     },
     "output_type": "display_data"
    }
   ],
   "source": [
    "sns.boxplot((df['Revolving Balance']))"
   ]
  },
  {
   "cell_type": "code",
   "execution_count": 121,
   "id": "5bb1eda1",
   "metadata": {},
   "outputs": [
    {
     "data": {
      "text/plain": [
       "<AxesSubplot:xlabel='Revolving Balance', ylabel='Density'>"
      ]
     },
     "execution_count": 121,
     "metadata": {},
     "output_type": "execute_result"
    },
    {
     "data": {
      "image/png": "[encoded data removed]",
      "text/plain": [
       "<Figure size 432x288 with 1 Axes>"
      ]
     },
     "metadata": {
      "needs_background": "light"
     },
     "output_type": "display_data"
    }
   ],
   "source": [
    "sns.kdeplot(np.cbrt(df['Revolving Balance']))"
   ]
  },
  {
   "cell_type": "code",
   "execution_count": 122,
   "id": "4437c9e9",
   "metadata": {},
   "outputs": [
    {
     "name": "stdout",
     "output_type": "stream",
     "text": [
      "Pvalue 1.0148800431786128e-38\n",
      "Data is not normally distributed\n"
     ]
    }
   ],
   "source": [
    "normal(np.cbrt(df['Revolving Balance']))"
   ]
  },
  {
   "cell_type": "code",
   "execution_count": 123,
   "id": "389943d8",
   "metadata": {},
   "outputs": [],
   "source": [
    "### 21.Revolving Utilities"
   ]
  },
  {
   "cell_type": "code",
   "execution_count": 124,
   "id": "3e7e38d8",
   "metadata": {},
   "outputs": [
    {
     "data": {
      "text/plain": [
       "array([74.93255103, 78.29718601,  2.07303987, ...,  1.50009028,\n",
       "       68.4818825 , 81.69232835])"
      ]
     },
     "execution_count": 124,
     "metadata": {},
     "output_type": "execute_result"
    }
   ],
   "source": [
    "df['Revolving Utilities'].unique()"
   ]
  },
  {
   "cell_type": "code",
   "execution_count": 125,
   "id": "aba0ee6a",
   "metadata": {},
   "outputs": [
    {
     "data": {
      "text/plain": [
       "<AxesSubplot:xlabel='Revolving Utilities'>"
      ]
     },
     "execution_count": 125,
     "metadata": {},
     "output_type": "execute_result"
    },
    {
     "data": {
      "image/png": "[encoded data removed]",
      "text/plain": [
       "<Figure size 432x288 with 1 Axes>"
      ]
     },
     "metadata": {
      "needs_background": "light"
     },
     "output_type": "display_data"
    }
   ],
   "source": [
    "sns.boxplot(df['Revolving Utilities'])"
   ]
  },
  {
   "cell_type": "code",
   "execution_count": 126,
   "id": "744a5db4",
   "metadata": {},
   "outputs": [
    {
     "data": {
      "text/plain": [
       "<AxesSubplot:xlabel='Revolving Utilities', ylabel='Density'>"
      ]
     },
     "execution_count": 126,
     "metadata": {},
     "output_type": "execute_result"
    },
    {
     "data": {
      "image/png": "[encoded data removed]",
      "text/plain": [
       "<Figure size 432x288 with 1 Axes>"
      ]
     },
     "metadata": {
      "needs_background": "light"
     },
     "output_type": "display_data"
    }
   ],
   "source": [
    "sns.kdeplot(df['Revolving Utilities'])"
   ]
  },
  {
   "cell_type": "code",
   "execution_count": 127,
   "id": "20dec30c",
   "metadata": {},
   "outputs": [],
   "source": [
    "###22.Total Accounts"
   ]
  },
  {
   "cell_type": "code",
   "execution_count": 128,
   "id": "085c367d",
   "metadata": {},
   "outputs": [
    {
     "data": {
      "text/plain": [
       "array([ 7, 13, 20, 12, 22, 37, 33, 17, 30, 46, 21, 19, 10, 16, 14,  9, 25,\n",
       "       11, 24, 23, 15, 18, 28,  8, 38, 27, 29,  6, 26,  4,  5, 32, 56, 44,\n",
       "       31, 34, 40, 39, 45, 36, 41, 35, 42, 50, 52, 43, 63, 47, 66, 48, 49,\n",
       "       54, 68, 53, 55, 65, 51, 60, 61, 59, 57, 64, 72, 58, 71, 67, 69, 70,\n",
       "       62], dtype=int64)"
      ]
     },
     "execution_count": 128,
     "metadata": {},
     "output_type": "execute_result"
    }
   ],
   "source": [
    "df['Total Accounts'].unique()"
   ]
  },
  {
   "cell_type": "code",
   "execution_count": 129,
   "id": "d39983c3",
   "metadata": {},
   "outputs": [
    {
     "data": {
      "text/plain": [
       "<AxesSubplot:xlabel='Total Accounts'>"
      ]
     },
     "execution_count": 129,
     "metadata": {},
     "output_type": "execute_result"
    },
    {
     "data": {
      "image/png": "[encoded data removed]",
      "text/plain": [
       "<Figure size 432x288 with 1 Axes>"
      ]
     },
     "metadata": {
      "needs_background": "light"
     },
     "output_type": "display_data"
    }
   ],
   "source": [
    "sns.boxplot(np.cbrt(df['Total Accounts']))"
   ]
  },
  {
   "cell_type": "code",
   "execution_count": 130,
   "id": "cdf78790",
   "metadata": {},
   "outputs": [
    {
     "data": {
      "text/plain": [
       "<AxesSubplot:xlabel='Total Accounts', ylabel='Density'>"
      ]
     },
     "execution_count": 130,
     "metadata": {},
     "output_type": "execute_result"
    },
    {
     "data": {
      "image/png": "[encoded data removed]",
      "text/plain": [
       "<Figure size 432x288 with 1 Axes>"
      ]
     },
     "metadata": {
      "needs_background": "light"
     },
     "output_type": "display_data"
    }
   ],
   "source": [
    "sns.kdeplot(np.cbrt(df['Total Accounts']))"
   ]
  },
  {
   "cell_type": "code",
   "execution_count": 131,
   "id": "1e959ff6",
   "metadata": {},
   "outputs": [],
   "source": [
    "from scipy.stats import shapiro\n"
   ]
  },
  {
   "cell_type": "code",
   "execution_count": 132,
   "id": "2ecb5b56",
   "metadata": {},
   "outputs": [],
   "source": [
    "def normal(data):\n",
    "    t,p=shapiro(data)\n",
    "    print('Pvalue',p)\n",
    "    if p>0.05:\n",
    "        print('Data is normally distirbuted')\n",
    "    else:\n",
    "        print('Data is not normally distributed')"
   ]
  },
  {
   "cell_type": "code",
   "execution_count": 133,
   "id": "f0a87ba4",
   "metadata": {},
   "outputs": [
    {
     "name": "stdout",
     "output_type": "stream",
     "text": [
      "Pvalue 0.0\n",
      "Data is not normally distributed\n"
     ]
    }
   ],
   "source": [
    "normal(np.cbrt(df['Total Accounts']))"
   ]
  },
  {
   "cell_type": "code",
   "execution_count": 134,
   "id": "2caf4625",
   "metadata": {},
   "outputs": [],
   "source": [
    "### 23.Initial List Status"
   ]
  },
  {
   "cell_type": "code",
   "execution_count": 135,
   "id": "cce5aa14",
   "metadata": {},
   "outputs": [
    {
     "data": {
      "text/plain": [
       "array(['w', 'f'], dtype=object)"
      ]
     },
     "execution_count": 135,
     "metadata": {},
     "output_type": "execute_result"
    }
   ],
   "source": [
    "df['Initial List Status'].unique()"
   ]
  },
  {
   "cell_type": "code",
   "execution_count": 136,
   "id": "dc800b53",
   "metadata": {},
   "outputs": [],
   "source": [
    "### 24.Total Received Interest"
   ]
  },
  {
   "cell_type": "code",
   "execution_count": 137,
   "id": "a5f7e806",
   "metadata": {},
   "outputs": [
    {
     "data": {
      "text/plain": [
       "array([2929.646315 ,  772.769385 ,  863.3243956, ..., 2691.995532 ,\n",
       "       3659.334202 , 1324.255922 ])"
      ]
     },
     "execution_count": 137,
     "metadata": {},
     "output_type": "execute_result"
    }
   ],
   "source": [
    "df['Total Received Interest'].unique()"
   ]
  },
  {
   "cell_type": "code",
   "execution_count": 138,
   "id": "23bd340a",
   "metadata": {},
   "outputs": [
    {
     "data": {
      "text/plain": [
       "<AxesSubplot:xlabel='Total Received Interest'>"
      ]
     },
     "execution_count": 138,
     "metadata": {},
     "output_type": "execute_result"
    },
    {
     "data": {
      "image/png": "[encoded data removed]",
      "text/plain": [
       "<Figure size 432x288 with 1 Axes>"
      ]
     },
     "metadata": {
      "needs_background": "light"
     },
     "output_type": "display_data"
    }
   ],
   "source": [
    "sns.boxplot(np.cbrt(df['Total Received Interest']))"
   ]
  },
  {
   "cell_type": "code",
   "execution_count": 139,
   "id": "d11525a7",
   "metadata": {},
   "outputs": [
    {
     "data": {
      "text/plain": [
       "<AxesSubplot:xlabel='Total Received Interest', ylabel='Density'>"
      ]
     },
     "execution_count": 139,
     "metadata": {},
     "output_type": "execute_result"
    },
    {
     "data": {
      "image/png": "[encoded data removed]",
      "text/plain": [
       "<Figure size 432x288 with 1 Axes>"
      ]
     },
     "metadata": {
      "needs_background": "light"
     },
     "output_type": "display_data"
    }
   ],
   "source": [
    "sns.kdeplot(np.cbrt(df['Total Received Interest']))"
   ]
  },
  {
   "cell_type": "code",
   "execution_count": 140,
   "id": "fac50349",
   "metadata": {},
   "outputs": [
    {
     "name": "stdout",
     "output_type": "stream",
     "text": [
      "Pvalue 0.0\n",
      "Data is not normally distributed\n"
     ]
    }
   ],
   "source": [
    "normal(np.cbrt(df['Total Received Interest']))"
   ]
  },
  {
   "cell_type": "code",
   "execution_count": 141,
   "id": "902d4644",
   "metadata": {},
   "outputs": [],
   "source": [
    "### 25.Total Received Late Fee"
   ]
  },
  {
   "cell_type": "code",
   "execution_count": 142,
   "id": "2c299734",
   "metadata": {},
   "outputs": [
    {
     "data": {
      "text/plain": [
       "array([1.02055198e-01, 3.61811700e-02, 1.87786601e+01, ...,\n",
       "       2.82115230e-02, 7.45083190e-02, 6.70556000e-04])"
      ]
     },
     "execution_count": 142,
     "metadata": {},
     "output_type": "execute_result"
    }
   ],
   "source": [
    "df['Total Received Late Fee'].unique()"
   ]
  },
  {
   "cell_type": "code",
   "execution_count": 143,
   "id": "a439baf5",
   "metadata": {},
   "outputs": [
    {
     "data": {
      "text/plain": [
       "<AxesSubplot:xlabel='Total Received Late Fee'>"
      ]
     },
     "execution_count": 143,
     "metadata": {},
     "output_type": "execute_result"
    },
    {
     "data": {
      "image/png": "[encoded data removed]",
      "text/plain": [
       "<Figure size 432x288 with 1 Axes>"
      ]
     },
     "metadata": {
      "needs_background": "light"
     },
     "output_type": "display_data"
    }
   ],
   "source": [
    "sns.boxplot((df['Total Received Late Fee']))"
   ]
  },
  {
   "cell_type": "code",
   "execution_count": 144,
   "id": "7f6b737f",
   "metadata": {},
   "outputs": [
    {
     "data": {
      "text/plain": [
       "<AxesSubplot:xlabel='Total Received Late Fee', ylabel='Density'>"
      ]
     },
     "execution_count": 144,
     "metadata": {},
     "output_type": "execute_result"
    },
    {
     "data": {
      "image/png": "[encoded data removed]",
      "text/plain": [
       "<Figure size 432x288 with 1 Axes>"
      ]
     },
     "metadata": {
      "needs_background": "light"
     },
     "output_type": "display_data"
    }
   ],
   "source": [
    "sns.kdeplot(np.cbrt(df['Total Received Late Fee']))"
   ]
  },
  {
   "cell_type": "code",
   "execution_count": 145,
   "id": "3d974e70",
   "metadata": {},
   "outputs": [
    {
     "name": "stdout",
     "output_type": "stream",
     "text": [
      "Pvalue 0.0\n",
      "Data is not normally distributed\n"
     ]
    }
   ],
   "source": [
    "normal(np.cbrt(df['Total Received Late Fee']))"
   ]
  },
  {
   "cell_type": "code",
   "execution_count": 146,
   "id": "e47ce8d4",
   "metadata": {},
   "outputs": [],
   "source": [
    "### 26.Recoveries"
   ]
  },
  {
   "cell_type": "code",
   "execution_count": 147,
   "id": "caeee092",
   "metadata": {},
   "outputs": [
    {
     "data": {
      "text/plain": [
       "array([2.49829096, 2.37721476, 4.31627734, ..., 5.67309165, 1.15745391,\n",
       "       1.85647963])"
      ]
     },
     "execution_count": 147,
     "metadata": {},
     "output_type": "execute_result"
    }
   ],
   "source": [
    "df['Recoveries'].unique()"
   ]
  },
  {
   "cell_type": "code",
   "execution_count": 148,
   "id": "8990ce4f",
   "metadata": {},
   "outputs": [
    {
     "data": {
      "text/plain": [
       "<AxesSubplot:xlabel='Recoveries'>"
      ]
     },
     "execution_count": 148,
     "metadata": {},
     "output_type": "execute_result"
    },
    {
     "data": {
      "image/png": "[encoded data removed]",
      "text/plain": [
       "<Figure size 432x288 with 1 Axes>"
      ]
     },
     "metadata": {
      "needs_background": "light"
     },
     "output_type": "display_data"
    }
   ],
   "source": [
    "sns.boxplot((df['Recoveries']))"
   ]
  },
  {
   "cell_type": "code",
   "execution_count": 149,
   "id": "f3db79ef",
   "metadata": {},
   "outputs": [
    {
     "data": {
      "text/plain": [
       "<AxesSubplot:xlabel='Recoveries', ylabel='Density'>"
      ]
     },
     "execution_count": 149,
     "metadata": {},
     "output_type": "execute_result"
    },
    {
     "data": {
      "image/png": "[encoded data removed]",
      "text/plain": [
       "<Figure size 432x288 with 1 Axes>"
      ]
     },
     "metadata": {
      "needs_background": "light"
     },
     "output_type": "display_data"
    }
   ],
   "source": [
    "sns.kdeplot(df['Recoveries'])"
   ]
  },
  {
   "cell_type": "code",
   "execution_count": 150,
   "id": "da1a5069",
   "metadata": {},
   "outputs": [],
   "source": [
    "### 27.Collection Recovery Fee"
   ]
  },
  {
   "cell_type": "code",
   "execution_count": 151,
   "id": "04c8f03d",
   "metadata": {},
   "outputs": [
    {
     "data": {
      "text/plain": [
       "array([0.79372376, 0.9748211 , 1.02007495, ..., 1.60709263, 0.20760821,\n",
       "       0.3663859 ])"
      ]
     },
     "execution_count": 151,
     "metadata": {},
     "output_type": "execute_result"
    }
   ],
   "source": [
    "df['Collection Recovery Fee'].unique()"
   ]
  },
  {
   "cell_type": "code",
   "execution_count": 152,
   "id": "65c3d81f",
   "metadata": {},
   "outputs": [
    {
     "data": {
      "text/plain": [
       "<AxesSubplot:xlabel='Collection Recovery Fee'>"
      ]
     },
     "execution_count": 152,
     "metadata": {},
     "output_type": "execute_result"
    },
    {
     "data": {
      "image/png": "[encoded data removed]",
      "text/plain": [
       "<Figure size 432x288 with 1 Axes>"
      ]
     },
     "metadata": {
      "needs_background": "light"
     },
     "output_type": "display_data"
    }
   ],
   "source": [
    "sns.boxplot(df['Collection Recovery Fee'])"
   ]
  },
  {
   "cell_type": "code",
   "execution_count": 153,
   "id": "4975bd97",
   "metadata": {},
   "outputs": [
    {
     "data": {
      "text/plain": [
       "<AxesSubplot:xlabel='Collection Recovery Fee', ylabel='Density'>"
      ]
     },
     "execution_count": 153,
     "metadata": {},
     "output_type": "execute_result"
    },
    {
     "data": {
      "image/png": "[encoded data removed]",
      "text/plain": [
       "<Figure size 432x288 with 1 Axes>"
      ]
     },
     "metadata": {
      "needs_background": "light"
     },
     "output_type": "display_data"
    }
   ],
   "source": [
    "sns.kdeplot(df['Collection Recovery Fee'])"
   ]
  },
  {
   "cell_type": "code",
   "execution_count": 154,
   "id": "bc03b754",
   "metadata": {},
   "outputs": [],
   "source": [
    "### 28.Collection 12 months Medical"
   ]
  },
  {
   "cell_type": "code",
   "execution_count": 155,
   "id": "69c12058",
   "metadata": {},
   "outputs": [
    {
     "data": {
      "text/plain": [
       "array([0, 1], dtype=int64)"
      ]
     },
     "execution_count": 155,
     "metadata": {},
     "output_type": "execute_result"
    }
   ],
   "source": [
    "df['Collection 12 months Medical'].unique()"
   ]
  },
  {
   "cell_type": "code",
   "execution_count": 156,
   "id": "e9016f39",
   "metadata": {},
   "outputs": [],
   "source": [
    "### 29.Application Type"
   ]
  },
  {
   "cell_type": "code",
   "execution_count": 157,
   "id": "f4c5bf20",
   "metadata": {},
   "outputs": [
    {
     "data": {
      "text/plain": [
       "array(['INDIVIDUAL', 'JOINT'], dtype=object)"
      ]
     },
     "execution_count": 157,
     "metadata": {},
     "output_type": "execute_result"
    }
   ],
   "source": [
    "df['Application Type'].unique()\n"
   ]
  },
  {
   "cell_type": "code",
   "execution_count": 158,
   "id": "c15e4573",
   "metadata": {},
   "outputs": [],
   "source": [
    "df['Application Type'].replace({'INDIVIDUAL':0,'JOINT':1},inplace=True)"
   ]
  },
  {
   "cell_type": "code",
   "execution_count": 159,
   "id": "d658c3fb",
   "metadata": {},
   "outputs": [],
   "source": [
    "### 30.Last week Pay"
   ]
  },
  {
   "cell_type": "code",
   "execution_count": 160,
   "id": "367c5b6f",
   "metadata": {},
   "outputs": [
    {
     "data": {
      "text/plain": [
       "array([ 49, 109,  66,  39,  18,  32,  71,  87, 144,   9,  34,  55, 120,\n",
       "        72,  83, 126, 128,  76, 151,  33,  97,  88, 103,   1,  77,   2,\n",
       "        69,  54,  13,   3,  16, 154,  67,  82,  90,  28, 139,  98,  50,\n",
       "        14,   6,  42,  65, 118, 157, 161, 137, 155, 122,  57, 152, 131,\n",
       "        51, 119,  37, 125,  96,   4,  41, 140,  53, 153,  74,  60,  93,\n",
       "       117, 145,  95, 106,  17,  36, 156,  22, 130,  64,  43, 110,   8,\n",
       "       101, 138,  59,  91,   0, 147, 159,  21, 123,  61,   7,  40,  12,\n",
       "        56, 102, 160, 108,  47,  86,  70,  80,  58,  99,  25,  29, 112,\n",
       "       107, 150, 132,  23, 149,  19,  85,  63,  27,  73,  38,  31,  44,\n",
       "        92,  89,  94,  45, 133, 104, 127, 115, 113, 135, 142,  68,  30,\n",
       "       121, 116, 148,   5,  35,  48,  78, 124,  79,  46,  81,  11, 141,\n",
       "       129, 143,  52, 105,  20, 114,  62,  15, 146, 134, 111,  10, 100,\n",
       "        84,  26, 158,  24,  75, 136], dtype=int64)"
      ]
     },
     "execution_count": 160,
     "metadata": {},
     "output_type": "execute_result"
    }
   ],
   "source": [
    "df['Last week Pay'].unique()"
   ]
  },
  {
   "cell_type": "code",
   "execution_count": 161,
   "id": "e6670e5c",
   "metadata": {},
   "outputs": [
    {
     "data": {
      "text/plain": [
       "<AxesSubplot:xlabel='Last week Pay'>"
      ]
     },
     "execution_count": 161,
     "metadata": {},
     "output_type": "execute_result"
    },
    {
     "data": {
      "image/png": "[encoded data removed]",
      "text/plain": [
       "<Figure size 432x288 with 1 Axes>"
      ]
     },
     "metadata": {
      "needs_background": "light"
     },
     "output_type": "display_data"
    }
   ],
   "source": [
    "sns.boxplot((df['Last week Pay']))"
   ]
  },
  {
   "cell_type": "code",
   "execution_count": 162,
   "id": "c8b0a6f1",
   "metadata": {},
   "outputs": [
    {
     "data": {
      "text/plain": [
       "<AxesSubplot:xlabel='Last week Pay', ylabel='Density'>"
      ]
     },
     "execution_count": 162,
     "metadata": {},
     "output_type": "execute_result"
    },
    {
     "data": {
      "image/png": "[encoded data removed]",
      "text/plain": [
       "<Figure size 432x288 with 1 Axes>"
      ]
     },
     "metadata": {
      "needs_background": "light"
     },
     "output_type": "display_data"
    }
   ],
   "source": [
    "sns.kdeplot((df['Last week Pay']))"
   ]
  },
  {
   "cell_type": "code",
   "execution_count": 163,
   "id": "0368efa8",
   "metadata": {},
   "outputs": [
    {
     "name": "stdout",
     "output_type": "stream",
     "text": [
      "Pvalue 0.0\n",
      "Data is not normally distributed\n"
     ]
    }
   ],
   "source": [
    "normal(df['Last week Pay'])"
   ]
  },
  {
   "cell_type": "code",
   "execution_count": 164,
   "id": "8b3fd34c",
   "metadata": {},
   "outputs": [],
   "source": [
    "### 31.Accounts Delinquent"
   ]
  },
  {
   "cell_type": "code",
   "execution_count": 165,
   "id": "f1cfc7b6",
   "metadata": {},
   "outputs": [
    {
     "data": {
      "text/plain": [
       "array([0], dtype=int64)"
      ]
     },
     "execution_count": 165,
     "metadata": {},
     "output_type": "execute_result"
    }
   ],
   "source": [
    "df['Accounts Delinquent'].unique()"
   ]
  },
  {
   "cell_type": "code",
   "execution_count": 166,
   "id": "534061b9",
   "metadata": {},
   "outputs": [
    {
     "data": {
      "text/plain": [
       "0        0\n",
       "1        0\n",
       "2        0\n",
       "3        0\n",
       "4        0\n",
       "        ..\n",
       "67458    0\n",
       "67459    0\n",
       "67460    0\n",
       "67461    0\n",
       "67462    0\n",
       "Name: Accounts Delinquent, Length: 67463, dtype: int64"
      ]
     },
     "execution_count": 166,
     "metadata": {},
     "output_type": "execute_result"
    }
   ],
   "source": [
    "df['Accounts Delinquent']"
   ]
  },
  {
   "cell_type": "code",
   "execution_count": 167,
   "id": "efaae6bd",
   "metadata": {},
   "outputs": [],
   "source": [
    "###32.Total Collection Amount"
   ]
  },
  {
   "cell_type": "code",
   "execution_count": 168,
   "id": "54b49d47",
   "metadata": {},
   "outputs": [
    {
     "data": {
      "text/plain": [
       "array([  31,   53,   34, ..., 9920, 1902, 5302], dtype=int64)"
      ]
     },
     "execution_count": 168,
     "metadata": {},
     "output_type": "execute_result"
    }
   ],
   "source": [
    "df['Total Collection Amount'].unique()"
   ]
  },
  {
   "cell_type": "code",
   "execution_count": 169,
   "id": "41d7d92f",
   "metadata": {},
   "outputs": [
    {
     "data": {
      "text/plain": [
       "<AxesSubplot:xlabel='Total Collection Amount'>"
      ]
     },
     "execution_count": 169,
     "metadata": {},
     "output_type": "execute_result"
    },
    {
     "data": {
      "image/png": "[encoded data removed]",
      "text/plain": [
       "<Figure size 432x288 with 1 Axes>"
      ]
     },
     "metadata": {
      "needs_background": "light"
     },
     "output_type": "display_data"
    }
   ],
   "source": [
    "sns.boxplot(np.log(df['Total Collection Amount']))"
   ]
  },
  {
   "cell_type": "code",
   "execution_count": 170,
   "id": "dfe8bfd9",
   "metadata": {},
   "outputs": [
    {
     "data": {
      "text/plain": [
       "<AxesSubplot:xlabel='Total Collection Amount', ylabel='Density'>"
      ]
     },
     "execution_count": 170,
     "metadata": {},
     "output_type": "execute_result"
    },
    {
     "data": {
      "image/png": "[encoded data removed]",
      "text/plain": [
       "<Figure size 432x288 with 1 Axes>"
      ]
     },
     "metadata": {
      "needs_background": "light"
     },
     "output_type": "display_data"
    }
   ],
   "source": [
    "sns.kdeplot(np.log(df['Total Collection Amount']))"
   ]
  },
  {
   "cell_type": "code",
   "execution_count": 171,
   "id": "a3da2efc",
   "metadata": {},
   "outputs": [
    {
     "name": "stdout",
     "output_type": "stream",
     "text": [
      "Pvalue 0.0\n",
      "Data is not normally distributed\n"
     ]
    }
   ],
   "source": [
    "normal(np.log(df['Total Collection Amount']))"
   ]
  },
  {
   "cell_type": "code",
   "execution_count": 172,
   "id": "a6fa2f27",
   "metadata": {},
   "outputs": [],
   "source": [
    "### 33.Total Current Balance"
   ]
  },
  {
   "cell_type": "code",
   "execution_count": 173,
   "id": "95422b8f",
   "metadata": {},
   "outputs": [
    {
     "data": {
      "text/plain": [
       "array([311301, 182610,  89801, ..., 176857, 361339, 196960], dtype=int64)"
      ]
     },
     "execution_count": 173,
     "metadata": {},
     "output_type": "execute_result"
    }
   ],
   "source": [
    "df['Total Current Balance'].unique()"
   ]
  },
  {
   "cell_type": "code",
   "execution_count": 174,
   "id": "392114d1",
   "metadata": {},
   "outputs": [
    {
     "data": {
      "text/plain": [
       "<AxesSubplot:xlabel='Total Current Balance'>"
      ]
     },
     "execution_count": 174,
     "metadata": {},
     "output_type": "execute_result"
    },
    {
     "data": {
      "image/png": "[encoded data removed]",
      "text/plain": [
       "<Figure size 432x288 with 1 Axes>"
      ]
     },
     "metadata": {
      "needs_background": "light"
     },
     "output_type": "display_data"
    }
   ],
   "source": [
    "sns.boxplot(np.cbrt(df['Total Current Balance']))"
   ]
  },
  {
   "cell_type": "code",
   "execution_count": 175,
   "id": "7083ddcc",
   "metadata": {},
   "outputs": [
    {
     "data": {
      "text/plain": [
       "<AxesSubplot:xlabel='Total Current Balance', ylabel='Density'>"
      ]
     },
     "execution_count": 175,
     "metadata": {},
     "output_type": "execute_result"
    },
    {
     "data": {
      "image/png": "[encoded data removed]",
      "text/plain": [
       "<Figure size 432x288 with 1 Axes>"
      ]
     },
     "metadata": {
      "needs_background": "light"
     },
     "output_type": "display_data"
    }
   ],
   "source": [
    "sns.kdeplot(np.cbrt(df['Total Current Balance']))"
   ]
  },
  {
   "cell_type": "code",
   "execution_count": 176,
   "id": "07e03511",
   "metadata": {},
   "outputs": [
    {
     "name": "stdout",
     "output_type": "stream",
     "text": [
      "Pvalue 0.0\n",
      "Data is not normally distributed\n"
     ]
    }
   ],
   "source": [
    "normal(np.cbrt(df['Total Current Balance']))"
   ]
  },
  {
   "cell_type": "code",
   "execution_count": 177,
   "id": "4b53ad7a",
   "metadata": {},
   "outputs": [],
   "source": [
    "### 34.Total Revolving Credit Limit "
   ]
  },
  {
   "cell_type": "code",
   "execution_count": 178,
   "id": "7986bf65",
   "metadata": {},
   "outputs": [
    {
     "data": {
      "text/plain": [
       "array([ 6619, 20885, 26155, ..., 42330, 39075, 66060], dtype=int64)"
      ]
     },
     "execution_count": 178,
     "metadata": {},
     "output_type": "execute_result"
    }
   ],
   "source": [
    "df['Total Revolving Credit Limit'].unique()"
   ]
  },
  {
   "cell_type": "code",
   "execution_count": 179,
   "id": "2e953e91",
   "metadata": {},
   "outputs": [
    {
     "data": {
      "text/plain": [
       "<AxesSubplot:xlabel='Total Revolving Credit Limit'>"
      ]
     },
     "execution_count": 179,
     "metadata": {},
     "output_type": "execute_result"
    },
    {
     "data": {
      "image/png": "[encoded data removed]",
      "text/plain": [
       "<Figure size 432x288 with 1 Axes>"
      ]
     },
     "metadata": {
      "needs_background": "light"
     },
     "output_type": "display_data"
    }
   ],
   "source": [
    "sns.boxplot(np.log(df['Total Revolving Credit Limit']))"
   ]
  },
  {
   "cell_type": "code",
   "execution_count": 180,
   "id": "9ad4487d",
   "metadata": {},
   "outputs": [
    {
     "data": {
      "text/plain": [
       "<AxesSubplot:xlabel='Total Revolving Credit Limit', ylabel='Density'>"
      ]
     },
     "execution_count": 180,
     "metadata": {},
     "output_type": "execute_result"
    },
    {
     "data": {
      "image/png": "[encoded data removed]",
      "text/plain": [
       "<Figure size 432x288 with 1 Axes>"
      ]
     },
     "metadata": {
      "needs_background": "light"
     },
     "output_type": "display_data"
    }
   ],
   "source": [
    "sns.kdeplot(np.log(df['Total Revolving Credit Limit']))"
   ]
  },
  {
   "cell_type": "code",
   "execution_count": 181,
   "id": "9da63d13",
   "metadata": {},
   "outputs": [
    {
     "name": "stdout",
     "output_type": "stream",
     "text": [
      "Pvalue 0.0\n",
      "Data is not normally distributed\n"
     ]
    }
   ],
   "source": [
    "normal(np.log(df['Total Revolving Credit Limit']))"
   ]
  },
  {
   "cell_type": "code",
   "execution_count": 182,
   "id": "4808e176",
   "metadata": {},
   "outputs": [],
   "source": [
    "### 35.Loan Status"
   ]
  },
  {
   "cell_type": "code",
   "execution_count": 183,
   "id": "9a937df4",
   "metadata": {},
   "outputs": [
    {
     "data": {
      "text/plain": [
       "array([0, 1], dtype=int64)"
      ]
     },
     "execution_count": 183,
     "metadata": {},
     "output_type": "execute_result"
    }
   ],
   "source": [
    "df['Loan Status'].unique()"
   ]
  },
  {
   "cell_type": "code",
   "execution_count": 184,
   "id": "f213e32b",
   "metadata": {},
   "outputs": [
    {
     "data": {
      "text/plain": [
       "<AxesSubplot:xlabel='Loan Status', ylabel='count'>"
      ]
     },
     "execution_count": 184,
     "metadata": {},
     "output_type": "execute_result"
    },
    {
     "data": {
      "image/png": "[encoded data removed]",
      "text/plain": [
       "<Figure size 432x288 with 1 Axes>"
      ]
     },
     "metadata": {
      "needs_background": "light"
     },
     "output_type": "display_data"
    }
   ],
   "source": [
    "sns.countplot(df['Loan Status'])"
   ]
  },
  {
   "cell_type": "markdown",
   "id": "bc274a3d",
   "metadata": {},
   "source": [
    "# Feature Enginerring"
   ]
  },
  {
   "cell_type": "code",
   "execution_count": 186,
   "id": "6254c21b",
   "metadata": {},
   "outputs": [
    {
     "name": "stdout",
     "output_type": "stream",
     "text": [
      "<class 'pandas.core.frame.DataFrame'>\n",
      "RangeIndex: 67463 entries, 0 to 67462\n",
      "Data columns (total 35 columns):\n",
      " #   Column                        Non-Null Count  Dtype  \n",
      "---  ------                        --------------  -----  \n",
      " 0   ID                            67463 non-null  int64  \n",
      " 1   Loan Amount                   67463 non-null  int64  \n",
      " 2   Funded Amount                 67463 non-null  int64  \n",
      " 3   Funded Amount Investor        67463 non-null  float64\n",
      " 4   Term                          67463 non-null  int64  \n",
      " 5   Batch Enrolled                67463 non-null  object \n",
      " 6   Interest Rate                 67463 non-null  float64\n",
      " 7   Grade                         67463 non-null  object \n",
      " 8   Sub Grade                     67463 non-null  object \n",
      " 9   Employment Duration           67463 non-null  object \n",
      " 10  Home Ownership                67463 non-null  float64\n",
      " 11  Verification Status           67463 non-null  object \n",
      " 12  Payment Plan                  67463 non-null  object \n",
      " 13  Loan Title                    67463 non-null  object \n",
      " 14  Debit to Income               67463 non-null  float64\n",
      " 15  Delinquency - two years       67463 non-null  int64  \n",
      " 16  Inquires - six months         67463 non-null  int64  \n",
      " 17  Open Account                  67463 non-null  int64  \n",
      " 18  Public Record                 67463 non-null  int64  \n",
      " 19  Revolving Balance             67463 non-null  int64  \n",
      " 20  Revolving Utilities           67463 non-null  float64\n",
      " 21  Total Accounts                67463 non-null  int64  \n",
      " 22  Initial List Status           67463 non-null  object \n",
      " 23  Total Received Interest       67463 non-null  float64\n",
      " 24  Total Received Late Fee       67463 non-null  float64\n",
      " 25  Recoveries                    67463 non-null  float64\n",
      " 26  Collection Recovery Fee       67463 non-null  float64\n",
      " 27  Collection 12 months Medical  67463 non-null  int64  \n",
      " 28  Application Type              67463 non-null  int64  \n",
      " 29  Last week Pay                 67463 non-null  int64  \n",
      " 30  Accounts Delinquent           67463 non-null  int64  \n",
      " 31  Total Collection Amount       67463 non-null  int64  \n",
      " 32  Total Current Balance         67463 non-null  int64  \n",
      " 33  Total Revolving Credit Limit  67463 non-null  int64  \n",
      " 34  Loan Status                   67463 non-null  int64  \n",
      "dtypes: float64(9), int64(18), object(8)\n",
      "memory usage: 18.0+ MB\n"
     ]
    }
   ],
   "source": [
    "df.info()"
   ]
  },
  {
   "cell_type": "code",
   "execution_count": 188,
   "id": "7d5dad4e",
   "metadata": {},
   "outputs": [
    {
     "data": {
      "text/plain": [
       "0        BAT2522922\n",
       "1        BAT1586599\n",
       "2        BAT2136391\n",
       "3        BAT2428731\n",
       "4        BAT5341619\n",
       "            ...    \n",
       "67458    BAT3193689\n",
       "67459    BAT1780517\n",
       "67460    BAT1761981\n",
       "67461    BAT2333412\n",
       "67462    BAT1930365\n",
       "Name: Batch Enrolled, Length: 67463, dtype: object"
      ]
     },
     "execution_count": 188,
     "metadata": {},
     "output_type": "execute_result"
    }
   ],
   "source": [
    "df['Batch Enrolled']"
   ]
  },
  {
   "cell_type": "code",
   "execution_count": 189,
   "id": "bd8d8eb1",
   "metadata": {},
   "outputs": [
    {
     "data": {
      "text/plain": [
       "0        B\n",
       "1        C\n",
       "2        F\n",
       "3        C\n",
       "4        C\n",
       "        ..\n",
       "67458    C\n",
       "67459    C\n",
       "67460    A\n",
       "67461    D\n",
       "67462    B\n",
       "Name: Grade, Length: 67463, dtype: object"
      ]
     },
     "execution_count": 189,
     "metadata": {},
     "output_type": "execute_result"
    }
   ],
   "source": [
    "df['Grade']"
   ]
  },
  {
   "cell_type": "code",
   "execution_count": 190,
   "id": "d92a5451",
   "metadata": {},
   "outputs": [],
   "source": [
    "df.drop('ID',axis=1,inplace=True)"
   ]
  },
  {
   "cell_type": "code",
   "execution_count": 192,
   "id": "79f9399b",
   "metadata": {},
   "outputs": [
    {
     "name": "stdout",
     "output_type": "stream",
     "text": [
      "<class 'pandas.core.frame.DataFrame'>\n",
      "RangeIndex: 67463 entries, 0 to 67462\n",
      "Data columns (total 34 columns):\n",
      " #   Column                        Non-Null Count  Dtype  \n",
      "---  ------                        --------------  -----  \n",
      " 0   Loan Amount                   67463 non-null  int64  \n",
      " 1   Funded Amount                 67463 non-null  int64  \n",
      " 2   Funded Amount Investor        67463 non-null  float64\n",
      " 3   Term                          67463 non-null  int64  \n",
      " 4   Batch Enrolled                67463 non-null  object \n",
      " 5   Interest Rate                 67463 non-null  float64\n",
      " 6   Grade                         67463 non-null  object \n",
      " 7   Sub Grade                     67463 non-null  object \n",
      " 8   Employment Duration           67463 non-null  object \n",
      " 9   Home Ownership                67463 non-null  float64\n",
      " 10  Verification Status           67463 non-null  object \n",
      " 11  Payment Plan                  67463 non-null  object \n",
      " 12  Loan Title                    67463 non-null  object \n",
      " 13  Debit to Income               67463 non-null  float64\n",
      " 14  Delinquency - two years       67463 non-null  int64  \n",
      " 15  Inquires - six months         67463 non-null  int64  \n",
      " 16  Open Account                  67463 non-null  int64  \n",
      " 17  Public Record                 67463 non-null  int64  \n",
      " 18  Revolving Balance             67463 non-null  int64  \n",
      " 19  Revolving Utilities           67463 non-null  float64\n",
      " 20  Total Accounts                67463 non-null  int64  \n",
      " 21  Initial List Status           67463 non-null  object \n",
      " 22  Total Received Interest       67463 non-null  float64\n",
      " 23  Total Received Late Fee       67463 non-null  float64\n",
      " 24  Recoveries                    67463 non-null  float64\n",
      " 25  Collection Recovery Fee       67463 non-null  float64\n",
      " 26  Collection 12 months Medical  67463 non-null  int64  \n",
      " 27  Application Type              67463 non-null  int64  \n",
      " 28  Last week Pay                 67463 non-null  int64  \n",
      " 29  Accounts Delinquent           67463 non-null  int64  \n",
      " 30  Total Collection Amount       67463 non-null  int64  \n",
      " 31  Total Current Balance         67463 non-null  int64  \n",
      " 32  Total Revolving Credit Limit  67463 non-null  int64  \n",
      " 33  Loan Status                   67463 non-null  int64  \n",
      "dtypes: float64(9), int64(17), object(8)\n",
      "memory usage: 17.5+ MB\n"
     ]
    }
   ],
   "source": [
    "df.info()"
   ]
  },
  {
   "cell_type": "code",
   "execution_count": 197,
   "id": "99475f46",
   "metadata": {},
   "outputs": [
    {
     "data": {
      "text/plain": [
       "Index(['Loan Amount', 'Funded Amount', 'Funded Amount Investor', 'Term',\n",
       "       'Batch Enrolled', 'Interest Rate', 'Grade', 'Sub Grade',\n",
       "       'Employment Duration', 'Home Ownership', 'Verification Status',\n",
       "       'Payment Plan', 'Loan Title', 'Debit to Income',\n",
       "       'Delinquency - two years', 'Inquires - six months', 'Open Account',\n",
       "       'Public Record', 'Revolving Balance', 'Revolving Utilities',\n",
       "       'Total Accounts', 'Initial List Status', 'Total Received Interest',\n",
       "       'Total Received Late Fee', 'Recoveries', 'Collection Recovery Fee',\n",
       "       'Collection 12 months Medical', 'Application Type', 'Last week Pay',\n",
       "       'Accounts Delinquent', 'Total Collection Amount',\n",
       "       'Total Current Balance', 'Total Revolving Credit Limit', 'Loan Status'],\n",
       "      dtype='object')"
      ]
     },
     "execution_count": 197,
     "metadata": {},
     "output_type": "execute_result"
    }
   ],
   "source": [
    "df.columns"
   ]
  },
  {
   "cell_type": "code",
   "execution_count": 215,
   "id": "9e17841d",
   "metadata": {},
   "outputs": [],
   "source": [
    "x=df.drop(['Loan Status','Batch Enrolled','Grade','Sub Grade','Employment Duration',\n",
    "           'Home Ownership','Initial List Status','Verification Status','Payment Plan','Loan Title'],axis=1)\n",
    "y=df['Loan Status']"
   ]
  },
  {
   "cell_type": "code",
   "execution_count": 216,
   "id": "fbae047c",
   "metadata": {},
   "outputs": [],
   "source": [
    "from sklearn.feature_selection import mutual_info_classif"
   ]
  },
  {
   "cell_type": "code",
   "execution_count": 217,
   "id": "32a110dc",
   "metadata": {},
   "outputs": [
    {
     "data": {
      "text/plain": [
       "<AxesSubplot:>"
      ]
     },
     "execution_count": 217,
     "metadata": {},
     "output_type": "execute_result"
    },
    {
     "data": {
      "image/png": "[encoded data removed]",
      "text/plain": [
       "<Figure size 432x288 with 1 Axes>"
      ]
     },
     "metadata": {
      "needs_background": "light"
     },
     "output_type": "display_data"
    }
   ],
   "source": [
    "arr=mutual_info_classif(x,y)\n",
    "s1=pd.Series(arr,index=x.columns)\n",
    "s1.sort_values().plot(kind='barh')"
   ]
  },
  {
   "cell_type": "code",
   "execution_count": 218,
   "id": "3612ea36",
   "metadata": {},
   "outputs": [],
   "source": [
    "from skfeature.function.similarity_based import fisher_score"
   ]
  },
  {
   "cell_type": "code",
   "execution_count": 219,
   "id": "a2897374",
   "metadata": {},
   "outputs": [
    {
     "ename": "MemoryError",
     "evalue": "Unable to allocate 55.9 GiB for an array with shape (3748133284, 2) and data type int64",
     "output_type": "error",
     "traceback": [
      "\u001b[1;31m---------------------------------------------------------------------------\u001b[0m",
      "\u001b[1;31mMemoryError\u001b[0m                               Traceback (most recent call last)",
      "\u001b[1;32m~\\AppData\\Local\\Temp/ipykernel_9548/3849638968.py\u001b[0m in \u001b[0;36m<module>\u001b[1;34m\u001b[0m\n\u001b[1;32m----> 1\u001b[1;33m \u001b[0marray\u001b[0m \u001b[1;33m=\u001b[0m \u001b[0mfisher_score\u001b[0m\u001b[1;33m.\u001b[0m\u001b[0mfisher_score\u001b[0m\u001b[1;33m(\u001b[0m\u001b[0mx\u001b[0m\u001b[1;33m.\u001b[0m\u001b[0mvalues\u001b[0m\u001b[1;33m,\u001b[0m\u001b[0my\u001b[0m\u001b[1;33m)\u001b[0m\u001b[1;33m\u001b[0m\u001b[1;33m\u001b[0m\u001b[0m\n\u001b[0m\u001b[0;32m      2\u001b[0m \u001b[1;33m\u001b[0m\u001b[0m\n\u001b[0;32m      3\u001b[0m \u001b[0ms1\u001b[0m \u001b[1;33m=\u001b[0m \u001b[0mpd\u001b[0m\u001b[1;33m.\u001b[0m\u001b[0mSeries\u001b[0m\u001b[1;33m(\u001b[0m\u001b[0marray\u001b[0m\u001b[1;33m,\u001b[0m \u001b[0mindex\u001b[0m \u001b[1;33m=\u001b[0m \u001b[0mx\u001b[0m\u001b[1;33m.\u001b[0m\u001b[0mcolumns\u001b[0m\u001b[1;33m)\u001b[0m\u001b[1;33m\u001b[0m\u001b[1;33m\u001b[0m\u001b[0m\n\u001b[0;32m      4\u001b[0m \u001b[0ms1\u001b[0m\u001b[1;33m.\u001b[0m\u001b[0msort_values\u001b[0m\u001b[1;33m(\u001b[0m\u001b[1;33m)\u001b[0m\u001b[1;33m.\u001b[0m\u001b[0mplot\u001b[0m\u001b[1;33m(\u001b[0m\u001b[0mkind\u001b[0m \u001b[1;33m=\u001b[0m \u001b[1;34m'barh'\u001b[0m\u001b[1;33m)\u001b[0m\u001b[1;33m\u001b[0m\u001b[1;33m\u001b[0m\u001b[0m\n",
      "\u001b[1;32m~\\Anaconda3\\anaconda\\lib\\site-packages\\skfeature\\function\\similarity_based\\fisher_score.py\u001b[0m in \u001b[0;36mfisher_score\u001b[1;34m(X, y, mode)\u001b[0m\n\u001b[0;32m     38\u001b[0m     \u001b[1;31m# Construct weight matrix W in a fisherScore way\u001b[0m\u001b[1;33m\u001b[0m\u001b[1;33m\u001b[0m\u001b[0m\n\u001b[0;32m     39\u001b[0m     \u001b[0mkwargs\u001b[0m \u001b[1;33m=\u001b[0m \u001b[1;33m{\u001b[0m\u001b[1;34m\"neighbor_mode\"\u001b[0m\u001b[1;33m:\u001b[0m \u001b[1;34m\"supervised\"\u001b[0m\u001b[1;33m,\u001b[0m \u001b[1;34m\"fisher_score\"\u001b[0m\u001b[1;33m:\u001b[0m \u001b[1;32mTrue\u001b[0m\u001b[1;33m,\u001b[0m \u001b[1;34m\"y\"\u001b[0m\u001b[1;33m:\u001b[0m \u001b[0my\u001b[0m\u001b[1;33m}\u001b[0m\u001b[1;33m\u001b[0m\u001b[1;33m\u001b[0m\u001b[0m\n\u001b[1;32m---> 40\u001b[1;33m     \u001b[0mW\u001b[0m \u001b[1;33m=\u001b[0m \u001b[0mconstruct_W\u001b[0m\u001b[1;33m(\u001b[0m\u001b[0mX\u001b[0m\u001b[1;33m,\u001b[0m \u001b[1;33m**\u001b[0m\u001b[0mkwargs\u001b[0m\u001b[1;33m)\u001b[0m\u001b[1;33m\u001b[0m\u001b[1;33m\u001b[0m\u001b[0m\n\u001b[0m\u001b[0;32m     41\u001b[0m \u001b[1;33m\u001b[0m\u001b[0m\n\u001b[0;32m     42\u001b[0m     \u001b[1;31m# build the diagonal D matrix from affinity matrix W\u001b[0m\u001b[1;33m\u001b[0m\u001b[1;33m\u001b[0m\u001b[0m\n",
      "\u001b[1;32m~\\Anaconda3\\anaconda\\lib\\site-packages\\skfeature\\utility\\construct_W.py\u001b[0m in \u001b[0;36mconstruct_W\u001b[1;34m(X, **kwargs)\u001b[0m\n\u001b[0;32m    193\u001b[0m                 \u001b[0mclass_idx\u001b[0m \u001b[1;33m=\u001b[0m \u001b[0my\u001b[0m \u001b[1;33m==\u001b[0m \u001b[0mlabel\u001b[0m\u001b[1;33m[\u001b[0m\u001b[0mi\u001b[0m\u001b[1;33m]\u001b[0m\u001b[1;33m\u001b[0m\u001b[1;33m\u001b[0m\u001b[0m\n\u001b[0;32m    194\u001b[0m                 \u001b[0mclass_idx_all\u001b[0m \u001b[1;33m=\u001b[0m \u001b[0mclass_idx\u001b[0m\u001b[1;33m[\u001b[0m\u001b[1;33m:\u001b[0m\u001b[1;33m,\u001b[0m \u001b[0mnp\u001b[0m\u001b[1;33m.\u001b[0m\u001b[0mnewaxis\u001b[0m\u001b[1;33m]\u001b[0m \u001b[1;33m&\u001b[0m \u001b[0mclass_idx\u001b[0m\u001b[1;33m[\u001b[0m\u001b[0mnp\u001b[0m\u001b[1;33m.\u001b[0m\u001b[0mnewaxis\u001b[0m\u001b[1;33m,\u001b[0m \u001b[1;33m:\u001b[0m\u001b[1;33m]\u001b[0m\u001b[1;33m\u001b[0m\u001b[1;33m\u001b[0m\u001b[0m\n\u001b[1;32m--> 195\u001b[1;33m                 \u001b[0mW\u001b[0m\u001b[1;33m[\u001b[0m\u001b[0mclass_idx_all\u001b[0m\u001b[1;33m]\u001b[0m \u001b[1;33m=\u001b[0m \u001b[1;36m1.0\u001b[0m \u001b[1;33m/\u001b[0m \u001b[0mnp\u001b[0m\u001b[1;33m.\u001b[0m\u001b[0msum\u001b[0m\u001b[1;33m(\u001b[0m\u001b[0mnp\u001b[0m\u001b[1;33m.\u001b[0m\u001b[0msum\u001b[0m\u001b[1;33m(\u001b[0m\u001b[0mclass_idx\u001b[0m\u001b[1;33m)\u001b[0m\u001b[1;33m)\u001b[0m\u001b[1;33m\u001b[0m\u001b[1;33m\u001b[0m\u001b[0m\n\u001b[0m\u001b[0;32m    196\u001b[0m             \u001b[1;32mreturn\u001b[0m \u001b[0mW\u001b[0m\u001b[1;33m\u001b[0m\u001b[1;33m\u001b[0m\u001b[0m\n\u001b[0;32m    197\u001b[0m \u001b[1;33m\u001b[0m\u001b[0m\n",
      "\u001b[1;32m~\\Anaconda3\\anaconda\\lib\\site-packages\\scipy\\sparse\\lil.py\u001b[0m in \u001b[0;36m__setitem__\u001b[1;34m(self, key, x)\u001b[0m\n\u001b[0;32m    331\u001b[0m             \u001b[1;32mreturn\u001b[0m \u001b[0mself\u001b[0m\u001b[1;33m.\u001b[0m\u001b[0m_set_intXint\u001b[0m\u001b[1;33m(\u001b[0m\u001b[0mkey\u001b[0m\u001b[1;33m[\u001b[0m\u001b[1;36m0\u001b[0m\u001b[1;33m]\u001b[0m\u001b[1;33m,\u001b[0m \u001b[0mkey\u001b[0m\u001b[1;33m[\u001b[0m\u001b[1;36m1\u001b[0m\u001b[1;33m]\u001b[0m\u001b[1;33m,\u001b[0m \u001b[0mx\u001b[0m\u001b[1;33m)\u001b[0m\u001b[1;33m\u001b[0m\u001b[1;33m\u001b[0m\u001b[0m\n\u001b[0;32m    332\u001b[0m         \u001b[1;31m# Everything else takes the normal path.\u001b[0m\u001b[1;33m\u001b[0m\u001b[1;33m\u001b[0m\u001b[0m\n\u001b[1;32m--> 333\u001b[1;33m         \u001b[0mIndexMixin\u001b[0m\u001b[1;33m.\u001b[0m\u001b[0m__setitem__\u001b[0m\u001b[1;33m(\u001b[0m\u001b[0mself\u001b[0m\u001b[1;33m,\u001b[0m \u001b[0mkey\u001b[0m\u001b[1;33m,\u001b[0m \u001b[0mx\u001b[0m\u001b[1;33m)\u001b[0m\u001b[1;33m\u001b[0m\u001b[1;33m\u001b[0m\u001b[0m\n\u001b[0m\u001b[0;32m    334\u001b[0m \u001b[1;33m\u001b[0m\u001b[0m\n\u001b[0;32m    335\u001b[0m     \u001b[1;32mdef\u001b[0m \u001b[0m_mul_scalar\u001b[0m\u001b[1;33m(\u001b[0m\u001b[0mself\u001b[0m\u001b[1;33m,\u001b[0m \u001b[0mother\u001b[0m\u001b[1;33m)\u001b[0m\u001b[1;33m:\u001b[0m\u001b[1;33m\u001b[0m\u001b[1;33m\u001b[0m\u001b[0m\n",
      "\u001b[1;32m~\\Anaconda3\\anaconda\\lib\\site-packages\\scipy\\sparse\\_index.py\u001b[0m in \u001b[0;36m__setitem__\u001b[1;34m(self, key, x)\u001b[0m\n\u001b[0;32m     74\u001b[0m \u001b[1;33m\u001b[0m\u001b[0m\n\u001b[0;32m     75\u001b[0m     \u001b[1;32mdef\u001b[0m \u001b[0m__setitem__\u001b[0m\u001b[1;33m(\u001b[0m\u001b[0mself\u001b[0m\u001b[1;33m,\u001b[0m \u001b[0mkey\u001b[0m\u001b[1;33m,\u001b[0m \u001b[0mx\u001b[0m\u001b[1;33m)\u001b[0m\u001b[1;33m:\u001b[0m\u001b[1;33m\u001b[0m\u001b[1;33m\u001b[0m\u001b[0m\n\u001b[1;32m---> 76\u001b[1;33m         \u001b[0mrow\u001b[0m\u001b[1;33m,\u001b[0m \u001b[0mcol\u001b[0m \u001b[1;33m=\u001b[0m \u001b[0mself\u001b[0m\u001b[1;33m.\u001b[0m\u001b[0m_validate_indices\u001b[0m\u001b[1;33m(\u001b[0m\u001b[0mkey\u001b[0m\u001b[1;33m)\u001b[0m\u001b[1;33m\u001b[0m\u001b[1;33m\u001b[0m\u001b[0m\n\u001b[0m\u001b[0;32m     77\u001b[0m \u001b[1;33m\u001b[0m\u001b[0m\n\u001b[0;32m     78\u001b[0m         \u001b[1;32mif\u001b[0m \u001b[0misinstance\u001b[0m\u001b[1;33m(\u001b[0m\u001b[0mrow\u001b[0m\u001b[1;33m,\u001b[0m \u001b[0mINT_TYPES\u001b[0m\u001b[1;33m)\u001b[0m \u001b[1;32mand\u001b[0m \u001b[0misinstance\u001b[0m\u001b[1;33m(\u001b[0m\u001b[0mcol\u001b[0m\u001b[1;33m,\u001b[0m \u001b[0mINT_TYPES\u001b[0m\u001b[1;33m)\u001b[0m\u001b[1;33m:\u001b[0m\u001b[1;33m\u001b[0m\u001b[1;33m\u001b[0m\u001b[0m\n",
      "\u001b[1;32m~\\Anaconda3\\anaconda\\lib\\site-packages\\scipy\\sparse\\_index.py\u001b[0m in \u001b[0;36m_validate_indices\u001b[1;34m(self, key)\u001b[0m\n\u001b[0;32m    127\u001b[0m     \u001b[1;32mdef\u001b[0m \u001b[0m_validate_indices\u001b[0m\u001b[1;33m(\u001b[0m\u001b[0mself\u001b[0m\u001b[1;33m,\u001b[0m \u001b[0mkey\u001b[0m\u001b[1;33m)\u001b[0m\u001b[1;33m:\u001b[0m\u001b[1;33m\u001b[0m\u001b[1;33m\u001b[0m\u001b[0m\n\u001b[0;32m    128\u001b[0m         \u001b[0mM\u001b[0m\u001b[1;33m,\u001b[0m \u001b[0mN\u001b[0m \u001b[1;33m=\u001b[0m \u001b[0mself\u001b[0m\u001b[1;33m.\u001b[0m\u001b[0mshape\u001b[0m\u001b[1;33m\u001b[0m\u001b[1;33m\u001b[0m\u001b[0m\n\u001b[1;32m--> 129\u001b[1;33m         \u001b[0mrow\u001b[0m\u001b[1;33m,\u001b[0m \u001b[0mcol\u001b[0m \u001b[1;33m=\u001b[0m \u001b[0m_unpack_index\u001b[0m\u001b[1;33m(\u001b[0m\u001b[0mkey\u001b[0m\u001b[1;33m)\u001b[0m\u001b[1;33m\u001b[0m\u001b[1;33m\u001b[0m\u001b[0m\n\u001b[0m\u001b[0;32m    130\u001b[0m \u001b[1;33m\u001b[0m\u001b[0m\n\u001b[0;32m    131\u001b[0m         \u001b[1;32mif\u001b[0m \u001b[0misintlike\u001b[0m\u001b[1;33m(\u001b[0m\u001b[0mrow\u001b[0m\u001b[1;33m)\u001b[0m\u001b[1;33m:\u001b[0m\u001b[1;33m\u001b[0m\u001b[1;33m\u001b[0m\u001b[0m\n",
      "\u001b[1;32m~\\Anaconda3\\anaconda\\lib\\site-packages\\scipy\\sparse\\_index.py\u001b[0m in \u001b[0;36m_unpack_index\u001b[1;34m(index)\u001b[0m\n\u001b[0;32m    252\u001b[0m     if (isinstance(index, (spmatrix, np.ndarray)) and\n\u001b[0;32m    253\u001b[0m             index.ndim == 2 and index.dtype.kind == 'b'):\n\u001b[1;32m--> 254\u001b[1;33m         \u001b[1;32mreturn\u001b[0m \u001b[0mindex\u001b[0m\u001b[1;33m.\u001b[0m\u001b[0mnonzero\u001b[0m\u001b[1;33m(\u001b[0m\u001b[1;33m)\u001b[0m\u001b[1;33m\u001b[0m\u001b[1;33m\u001b[0m\u001b[0m\n\u001b[0m\u001b[0;32m    255\u001b[0m \u001b[1;33m\u001b[0m\u001b[0m\n\u001b[0;32m    256\u001b[0m     \u001b[1;31m# Parse any ellipses.\u001b[0m\u001b[1;33m\u001b[0m\u001b[1;33m\u001b[0m\u001b[0m\n",
      "\u001b[1;31mMemoryError\u001b[0m: Unable to allocate 55.9 GiB for an array with shape (3748133284, 2) and data type int64"
     ]
    }
   ],
   "source": [
    "array = fisher_score.fisher_score(x.values,y)\n",
    "\n",
    "s1 = pd.Series(array, index = x.columns)\n",
    "s1.sort_values().plot(kind = 'barh')"
   ]
  },
  {
   "cell_type": "code",
   "execution_count": 207,
   "id": "0a14a965",
   "metadata": {},
   "outputs": [
    {
     "data": {
      "text/plain": [
       "Loan Amount                      True\n",
       "Funded Amount                    True\n",
       "Funded Amount Investor           True\n",
       "Term                             True\n",
       "Interest Rate                    True\n",
       "Debit to Income                  True\n",
       "Delinquency - two years          True\n",
       "Inquires - six months            True\n",
       "Open Account                     True\n",
       "Public Record                    True\n",
       "Revolving Balance                True\n",
       "Revolving Utilities              True\n",
       "Total Accounts                  False\n",
       "Total Received Interest         False\n",
       "Total Received Late Fee         False\n",
       "Recoveries                      False\n",
       "Collection Recovery Fee         False\n",
       "Collection 12 months Medical    False\n",
       "Application Type                False\n",
       "Last week Pay                   False\n",
       "Accounts Delinquent             False\n",
       "Total Collection Amount         False\n",
       "Total Current Balance           False\n",
       "Total Revolving Credit Limit    False\n",
       "dtype: bool"
      ]
     },
     "execution_count": 207,
     "metadata": {},
     "output_type": "execute_result"
    }
   ],
   "source": [
    "from sklearn.datasets import load_wine\n",
    "from sklearn.feature_selection import SequentialFeatureSelector\n",
    "from sklearn.linear_model import LogisticRegression\n",
    "log_clf = LogisticRegression()\n",
    "sfs = SequentialFeatureSelector(log_clf, direction='forward')\n",
    "sfs.fit(x,y)\n",
    "\n",
    "array = sfs.get_support()\n",
    "s1 = pd.Series(array,index=x.columns)\n",
    "s1"
   ]
  },
  {
   "cell_type": "code",
   "execution_count": 220,
   "id": "e8ad3e85",
   "metadata": {},
   "outputs": [],
   "source": [
    "x_new=x.drop(['Total Accounts','Total Received Interest','Total Received Late Fee','Recoveries','Collection Recovery Fee',\n",
    "              'Collection 12 months Medical','Application Type','Last week Pay','Accounts Delinquent',\n",
    "               'Total Collection Amount','Total Current Balance','Total Revolving Credit Limit'\n",
    "              ],axis=1)"
   ]
  },
  {
   "cell_type": "code",
   "execution_count": 221,
   "id": "b309a7aa",
   "metadata": {},
   "outputs": [],
   "source": [
    "x_train,x_test,y_train,y_test=train_test_split(x_new,y,test_size=0.25,random_state=42,stratify=y)"
   ]
  },
  {
   "cell_type": "code",
   "execution_count": 222,
   "id": "bbc5f9a3",
   "metadata": {},
   "outputs": [
    {
     "data": {
      "text/plain": [
       "LogisticRegression()"
      ]
     },
     "execution_count": 222,
     "metadata": {},
     "output_type": "execute_result"
    }
   ],
   "source": [
    "lgr=LogisticRegression()\n",
    "lgr.fit(x_train,y_train)"
   ]
  },
  {
   "cell_type": "code",
   "execution_count": 223,
   "id": "07a7d487",
   "metadata": {},
   "outputs": [],
   "source": [
    "### Testing Model EValuation\n",
    "y_pred=lgr.predict(x_test)\n",
    "acc=accuracy_score(y_test,y_pred)"
   ]
  },
  {
   "cell_type": "code",
   "execution_count": 224,
   "id": "f3082f59",
   "metadata": {},
   "outputs": [
    {
     "data": {
      "text/plain": [
       "0.9075062255425116"
      ]
     },
     "execution_count": 224,
     "metadata": {},
     "output_type": "execute_result"
    }
   ],
   "source": [
    "acc"
   ]
  },
  {
   "cell_type": "code",
   "execution_count": 225,
   "id": "a38dfb3e",
   "metadata": {},
   "outputs": [],
   "source": [
    "y_pred=lgr.predict(x_train)"
   ]
  },
  {
   "cell_type": "code",
   "execution_count": 227,
   "id": "4aec46e5",
   "metadata": {},
   "outputs": [],
   "source": [
    "acc=accuracy_score(y_train,y_pred)\n"
   ]
  },
  {
   "cell_type": "code",
   "execution_count": 228,
   "id": "c0cc9b3e",
   "metadata": {},
   "outputs": [
    {
     "data": {
      "text/plain": [
       "0.907484633476293"
      ]
     },
     "execution_count": 228,
     "metadata": {},
     "output_type": "execute_result"
    }
   ],
   "source": [
    "acc"
   ]
  },
  {
   "cell_type": "code",
   "execution_count": null,
   "id": "54fbfe70",
   "metadata": {},
   "outputs": [],
   "source": []
  }
 ],
 "metadata": {
  "kernelspec": {
   "display_name": "Python 3 (ipykernel)",
   "language": "python",
   "name": "python3"
  },
  "language_info": {
   "codemirror_mode": {
    "name": "ipython",
    "version": 3
   },
   "file_extension": ".py",
   "mimetype": "text/x-python",
   "name": "python",
   "nbconvert_exporter": "python",
   "pygments_lexer": "ipython3",
   "version": "3.9.7"
  }
 },
 "nbformat": 4,
 "nbformat_minor": 5
}
